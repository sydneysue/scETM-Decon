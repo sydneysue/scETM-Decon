{
 "cells": [
  {
   "cell_type": "code",
   "execution_count": 1,
   "metadata": {},
   "outputs": [],
   "source": [
    "import pandas as pd\n",
    "import numpy as np\n",
    "from scipy import stats\n",
    "import anndata as ad\n",
    "import scanpy as sc"
   ]
  },
  {
   "cell_type": "code",
   "execution_count": 2,
   "metadata": {},
   "outputs": [
    {
     "name": "stdout",
     "output_type": "stream",
     "text": [
      "                  SGIP1  AZIN2  CLIC4  AGBL4  NECAP2  SLC45A1  TGFBR3  DBT  \\\n",
      "Unnamed:0                                                                    \n",
      "AZ_A10                0      0      3      0       0        0       0   55   \n",
      "AZ_A11                0      0      0      0       0        0       0    0   \n",
      "AZ_A12                0      0      0      0       0        0       0    0   \n",
      "AZ_A2                32      0      1      0       0        0       1    0   \n",
      "AZ_A5                 0      0      0      0       0        0       0    0   \n",
      "...                 ...    ...    ...    ...     ...      ...     ...  ...   \n",
      "HP1526901T2D_P22      0      0      0      0       1        0      37    0   \n",
      "HP1526901T2D_P23      0      0      0     12       1       41       0    2   \n",
      "HP1526901T2D_P4       0      0      0      0       0        0      22    6   \n",
      "HP1526901T2D_P7       0      0     16      0       9        0       3    0   \n",
      "HP1526901T2D_P9       0      6      0      0       8        0       0   10   \n",
      "\n",
      "                  RFWD2  C1orf21  ...  KIR3DS1  KIR2DL5B  KIR2DS2  KIR2DS1  \\\n",
      "Unnamed:0                         ...                                        \n",
      "AZ_A10                4        0  ...        0         0        0        0   \n",
      "AZ_A11                9      148  ...        0         0        0        0   \n",
      "AZ_A12                0        0  ...        0         0        0        0   \n",
      "AZ_A2                 0       99  ...        0         0        0        0   \n",
      "AZ_A5                 0        0  ...        0         0        0        0   \n",
      "...                 ...      ...  ...      ...       ...      ...      ...   \n",
      "HP1526901T2D_P22      3        0  ...        0         0        0        0   \n",
      "HP1526901T2D_P23      1        0  ...        0         0        0        0   \n",
      "HP1526901T2D_P4       0        0  ...        0         0        0        0   \n",
      "HP1526901T2D_P7       0        0  ...        0         0        0        0   \n",
      "HP1526901T2D_P9      19        0  ...        0         0        0        0   \n",
      "\n",
      "                  KIR2DL2  KIR2DL4.1  KIR2DS3  KIR2DS2.1     Celltype  \\\n",
      "Unnamed:0                                                               \n",
      "AZ_A10                  0          0        0          0   delta cell   \n",
      "AZ_A11                  0          0        0          0   alpha cell   \n",
      "AZ_A12                  0          0        0          0   delta cell   \n",
      "AZ_A2                   0          0        0          0   gamma cell   \n",
      "AZ_A5                   0          0        0          0  ductal cell   \n",
      "...                   ...        ...      ...        ...          ...   \n",
      "HP1526901T2D_P22        0          0        0          0   delta cell   \n",
      "HP1526901T2D_P23        0          0        0          0   gamma cell   \n",
      "HP1526901T2D_P4         0          0        0          0    beta cell   \n",
      "HP1526901T2D_P7         0          0        0          0    beta cell   \n",
      "HP1526901T2D_P9         0          0        0          0    beta cell   \n",
      "\n",
      "                         Batch  \n",
      "Unnamed:0                       \n",
      "AZ_A10                      AZ  \n",
      "AZ_A11                      AZ  \n",
      "AZ_A12                      AZ  \n",
      "AZ_A2                       AZ  \n",
      "AZ_A5                       AZ  \n",
      "...                        ...  \n",
      "HP1526901T2D_P22  HP1526901T2D  \n",
      "HP1526901T2D_P23  HP1526901T2D  \n",
      "HP1526901T2D_P4   HP1526901T2D  \n",
      "HP1526901T2D_P7   HP1526901T2D  \n",
      "HP1526901T2D_P9   HP1526901T2D  \n",
      "\n",
      "[2209 rows x 26179 columns]\n"
     ]
    }
   ],
   "source": [
    "matrix = pd.read_csv('/home/mcb/users/slaksh1/projects/scDECON_CANCER/data/PI_Segerstolpe_scRS/pancreas_refseq_counts_goodquality.csv', index_col=0)\n",
    "\n",
    "print(matrix)"
   ]
  },
  {
   "cell_type": "code",
   "execution_count": 3,
   "metadata": {},
   "outputs": [
    {
     "name": "stdout",
     "output_type": "stream",
     "text": [
      "                  SGIP1  AZIN2  CLIC4  AGBL4  NECAP2  SLC45A1  TGFBR3  DBT  \\\n",
      "Unnamed:0                                                                    \n",
      "AZ_A10                0      0      3      0       0        0       0   55   \n",
      "AZ_A11                0      0      0      0       0        0       0    0   \n",
      "AZ_A12                0      0      0      0       0        0       0    0   \n",
      "AZ_A2                32      0      1      0       0        0       1    0   \n",
      "AZ_A5                 0      0      0      0       0        0       0    0   \n",
      "...                 ...    ...    ...    ...     ...      ...     ...  ...   \n",
      "HP1526901T2D_P22      0      0      0      0       1        0      37    0   \n",
      "HP1526901T2D_P23      0      0      0     12       1       41       0    2   \n",
      "HP1526901T2D_P4       0      0      0      0       0        0      22    6   \n",
      "HP1526901T2D_P7       0      0     16      0       9        0       3    0   \n",
      "HP1526901T2D_P9       0      6      0      0       8        0       0   10   \n",
      "\n",
      "                  RFWD2  C1orf21  ...  KIR2DL5B  KIR2DS2  KIR2DS1  KIR2DL2  \\\n",
      "Unnamed:0                         ...                                        \n",
      "AZ_A10                4        0  ...         0        0        0        0   \n",
      "AZ_A11                9      148  ...         0        0        0        0   \n",
      "AZ_A12                0        0  ...         0        0        0        0   \n",
      "AZ_A2                 0       99  ...         0        0        0        0   \n",
      "AZ_A5                 0        0  ...         0        0        0        0   \n",
      "...                 ...      ...  ...       ...      ...      ...      ...   \n",
      "HP1526901T2D_P22      3        0  ...         0        0        0        0   \n",
      "HP1526901T2D_P23      1        0  ...         0        0        0        0   \n",
      "HP1526901T2D_P4       0        0  ...         0        0        0        0   \n",
      "HP1526901T2D_P7       0        0  ...         0        0        0        0   \n",
      "HP1526901T2D_P9      19        0  ...         0        0        0        0   \n",
      "\n",
      "                  KIR2DL4.1  KIR2DS3  KIR2DS2.1     Celltype         Batch  \\\n",
      "Unnamed:0                                                                    \n",
      "AZ_A10                    0        0          0   delta cell            AZ   \n",
      "AZ_A11                    0        0          0   alpha cell            AZ   \n",
      "AZ_A12                    0        0          0   delta cell            AZ   \n",
      "AZ_A2                     0        0          0   gamma cell            AZ   \n",
      "AZ_A5                     0        0          0  ductal cell            AZ   \n",
      "...                     ...      ...        ...          ...           ...   \n",
      "HP1526901T2D_P22          0        0          0   delta cell  HP1526901T2D   \n",
      "HP1526901T2D_P23          0        0          0   gamma cell  HP1526901T2D   \n",
      "HP1526901T2D_P4           0        0          0    beta cell  HP1526901T2D   \n",
      "HP1526901T2D_P7           0        0          0    beta cell  HP1526901T2D   \n",
      "HP1526901T2D_P9           0        0          0    beta cell  HP1526901T2D   \n",
      "\n",
      "                       Subject  \n",
      "Unnamed:0                       \n",
      "AZ_A10                      AZ  \n",
      "AZ_A11                      AZ  \n",
      "AZ_A12                      AZ  \n",
      "AZ_A2                       AZ  \n",
      "AZ_A5                       AZ  \n",
      "...                        ...  \n",
      "HP1526901T2D_P22  HP1526901T2D  \n",
      "HP1526901T2D_P23  HP1526901T2D  \n",
      "HP1526901T2D_P4   HP1526901T2D  \n",
      "HP1526901T2D_P7   HP1526901T2D  \n",
      "HP1526901T2D_P9   HP1526901T2D  \n",
      "\n",
      "[2209 rows x 26180 columns]\n"
     ]
    }
   ],
   "source": [
    "matrix['Subject'] = matrix.index.str.split('_').str[0]\n",
    "print(matrix)"
   ]
  },
  {
   "cell_type": "code",
   "execution_count": 4,
   "metadata": {},
   "outputs": [
    {
     "name": "stdout",
     "output_type": "stream",
     "text": [
      "['AZ' 'HP1502401' 'HP1504901' 'HP1506401' 'HP1507101' 'HP1509101'\n",
      " 'HP1504101T2D' 'HP1508501T2D' 'HP1525301T2D' 'HP1526901T2D']\n"
     ]
    }
   ],
   "source": [
    "print(matrix['Subject'].unique())"
   ]
  },
  {
   "cell_type": "code",
   "execution_count": 5,
   "metadata": {},
   "outputs": [
    {
     "name": "stdout",
     "output_type": "stream",
     "text": [
      "                  SGIP1  AZIN2  CLIC4  AGBL4  NECAP2  SLC45A1  TGFBR3  DBT  \\\n",
      "Unnamed:0                                                                    \n",
      "AZ_A10                0      0      3      0       0        0       0   55   \n",
      "AZ_A11                0      0      0      0       0        0       0    0   \n",
      "AZ_A12                0      0      0      0       0        0       0    0   \n",
      "AZ_A2                32      0      1      0       0        0       1    0   \n",
      "AZ_A5                 0      0      0      0       0        0       0    0   \n",
      "...                 ...    ...    ...    ...     ...      ...     ...  ...   \n",
      "HP1526901T2D_P22      0      0      0      0       1        0      37    0   \n",
      "HP1526901T2D_P23      0      0      0     12       1       41       0    2   \n",
      "HP1526901T2D_P4       0      0      0      0       0        0      22    6   \n",
      "HP1526901T2D_P7       0      0     16      0       9        0       3    0   \n",
      "HP1526901T2D_P9       0      6      0      0       8        0       0   10   \n",
      "\n",
      "                  RFWD2  C1orf21  ...  KIR2DS5  KIR2DL5A  KIR3DS1  KIR2DL5B  \\\n",
      "Unnamed:0                         ...                                         \n",
      "AZ_A10                4        0  ...        0         0        0         0   \n",
      "AZ_A11                9      148  ...        0         0        0         0   \n",
      "AZ_A12                0        0  ...        0         0        0         0   \n",
      "AZ_A2                 0       99  ...        0         0        0         0   \n",
      "AZ_A5                 0        0  ...        0         0        0         0   \n",
      "...                 ...      ...  ...      ...       ...      ...       ...   \n",
      "HP1526901T2D_P22      3        0  ...        0         0        0         0   \n",
      "HP1526901T2D_P23      1        0  ...        0         0        0         0   \n",
      "HP1526901T2D_P4       0        0  ...        0         0        0         0   \n",
      "HP1526901T2D_P7       0        0  ...        0         0        0         0   \n",
      "HP1526901T2D_P9      19        0  ...        0         0        0         0   \n",
      "\n",
      "                  KIR2DS2  KIR2DS1  KIR2DL2  KIR2DL4.1  KIR2DS3  KIR2DS2.1  \n",
      "Unnamed:0                                                                   \n",
      "AZ_A10                  0        0        0          0        0          0  \n",
      "AZ_A11                  0        0        0          0        0          0  \n",
      "AZ_A12                  0        0        0          0        0          0  \n",
      "AZ_A2                   0        0        0          0        0          0  \n",
      "AZ_A5                   0        0        0          0        0          0  \n",
      "...                   ...      ...      ...        ...      ...        ...  \n",
      "HP1526901T2D_P22        0        0        0          0        0          0  \n",
      "HP1526901T2D_P23        0        0        0          0        0          0  \n",
      "HP1526901T2D_P4         0        0        0          0        0          0  \n",
      "HP1526901T2D_P7         0        0        0          0        0          0  \n",
      "HP1526901T2D_P9         0        0        0          0        0          0  \n",
      "\n",
      "[2209 rows x 26177 columns]\n"
     ]
    }
   ],
   "source": [
    "x = matrix.drop(['Celltype','Batch', 'Subject'], axis=1)\n",
    "print(x)"
   ]
  },
  {
   "cell_type": "code",
   "execution_count": 6,
   "metadata": {},
   "outputs": [],
   "source": [
    "# x_T = x.T"
   ]
  },
  {
   "cell_type": "code",
   "execution_count": 7,
   "metadata": {},
   "outputs": [],
   "source": [
    "# new = x_T[x_T.astype(bool).sum(axis=1) > 5]\n",
    "# print(new)"
   ]
  },
  {
   "cell_type": "code",
   "execution_count": 8,
   "metadata": {},
   "outputs": [],
   "source": [
    "# Y = new[new.astype(bool).sum(axis=1) < len(filtered)*0.8]"
   ]
  },
  {
   "cell_type": "code",
   "execution_count": 9,
   "metadata": {},
   "outputs": [],
   "source": [
    "# print(Y.shape)"
   ]
  },
  {
   "cell_type": "code",
   "execution_count": 10,
   "metadata": {},
   "outputs": [],
   "source": [
    "# Y = Y.T"
   ]
  },
  {
   "cell_type": "code",
   "execution_count": 11,
   "metadata": {},
   "outputs": [],
   "source": [
    "X = x.values"
   ]
  },
  {
   "cell_type": "code",
   "execution_count": 48,
   "metadata": {},
   "outputs": [
    {
     "name": "stdout",
     "output_type": "stream",
     "text": [
      "AnnData object with n_obs × n_vars = 2209 × 26177\n",
      "    obs: 'cell_types', 'Subject', 'batch_indices'\n"
     ]
    }
   ],
   "source": [
    "def populateAnnData(mat,df, cells):\n",
    "    import anndata\n",
    "    adata = anndata.AnnData(X=mat)\n",
    "    adata.var_names = x.columns.values\n",
    "    adata.obs['cell_types'] = matrix['Celltype'].values\n",
    "    adata.obs['Subject'] = matrix['Subject'].values\n",
    "    adata.obs['batch_indices'] = matrix['Batch'].values\n",
    "    return adata\n",
    "\n",
    "adata = populateAnnData(X, x, matrix)\n",
    "print(adata)"
   ]
  },
  {
   "cell_type": "code",
   "execution_count": 49,
   "metadata": {},
   "outputs": [
    {
     "name": "stdout",
     "output_type": "stream",
     "text": [
      "['AZ' 'HP1502401' 'HP1504901' 'HP1506401' 'HP1507101' 'HP1509101'\n",
      " 'HP1504101T2D' 'HP1508501T2D' 'HP1525301T2D' 'HP1526901T2D']\n"
     ]
    }
   ],
   "source": [
    "print(adata.obs.Subject.unique())"
   ]
  },
  {
   "cell_type": "code",
   "execution_count": 50,
   "metadata": {},
   "outputs": [
    {
     "name": "stdout",
     "output_type": "stream",
     "text": [
      "View of AnnData object with n_obs × n_vars = 1467 × 26177\n",
      "    obs: 'cell_types', 'Subject', 'batch_indices'\n"
     ]
    }
   ],
   "source": [
    "adata_filter = adata[adata.obs['cell_types'].isin(['delta cell', 'alpha cell', 'gamma cell','beta cell',]),:]\n",
    "print(adata_filter)"
   ]
  },
  {
   "cell_type": "code",
   "execution_count": 51,
   "metadata": {},
   "outputs": [
    {
     "name": "stdout",
     "output_type": "stream",
     "text": [
      "View of AnnData object with n_obs × n_vars = 748 × 26177\n",
      "    obs: 'cell_types', 'Subject', 'batch_indices'\n"
     ]
    }
   ],
   "source": [
    "train_set = adata_filter[adata_filter.obs['Subject'].isin(['AZ','HP1502401','HP1504901','HP1506401','HP1507101',\n",
    "                                                           'HP1509101']),:]\n",
    "print(train_set)"
   ]
  },
  {
   "cell_type": "code",
   "execution_count": 26,
   "metadata": {},
   "outputs": [
    {
     "name": "stdout",
     "output_type": "stream",
     "text": [
      "['SGIP1' 'AZIN2' 'CLIC4' ... 'KIR2DL4.1' 'KIR2DS3' 'KIR2DS2.1']\n"
     ]
    }
   ],
   "source": [
    "print(train_set.var.index.values)"
   ]
  },
  {
   "cell_type": "code",
   "execution_count": 28,
   "metadata": {},
   "outputs": [
    {
     "name": "stdout",
     "output_type": "stream",
     "text": [
      "            SGIP1  AZIN2  CLIC4  AGBL4  NECAP2  SLC45A1  TGFBR3   DBT  RFWD2  \\\n",
      "delta cell    0.0    0.0    3.0    0.0     0.0      0.0     0.0  55.0    4.0   \n",
      "alpha cell    0.0    0.0    0.0    0.0     0.0      0.0     0.0   0.0    9.0   \n",
      "delta cell    0.0    0.0    0.0    0.0     0.0      0.0     0.0   0.0    0.0   \n",
      "gamma cell   32.0    0.0    1.0    0.0     0.0      0.0     1.0   0.0    0.0   \n",
      "alpha cell    0.0    0.0    0.0    0.0     0.0      0.0     0.0   0.0    0.0   \n",
      "...           ...    ...    ...    ...     ...      ...     ...   ...    ...   \n",
      "alpha cell    0.0    0.0    6.0    0.0    28.0      0.0     0.0   0.0   19.0   \n",
      "delta cell    0.0    0.0    0.0   11.0     0.0     22.0    42.0   0.0   20.0   \n",
      "alpha cell    0.0    0.0    0.0    0.0     5.0      0.0     0.0   5.0    0.0   \n",
      "alpha cell    0.0    5.0    0.0    0.0     1.0      0.0     0.0   0.0    2.0   \n",
      "alpha cell    0.0    0.0    0.0    0.0     1.0      0.0     0.0   1.0    3.0   \n",
      "\n",
      "            C1orf21  ...  KIR2DS5  KIR2DL5A  KIR3DS1  KIR2DL5B  KIR2DS2  \\\n",
      "delta cell      0.0  ...      0.0       0.0      0.0       0.0      0.0   \n",
      "alpha cell    148.0  ...      0.0       0.0      0.0       0.0      0.0   \n",
      "delta cell      0.0  ...      0.0       0.0      0.0       0.0      0.0   \n",
      "gamma cell     99.0  ...      0.0       0.0      0.0       0.0      0.0   \n",
      "alpha cell      2.0  ...      0.0       0.0      0.0       0.0      0.0   \n",
      "...             ...  ...      ...       ...      ...       ...      ...   \n",
      "alpha cell      3.0  ...      0.0       0.0      0.0       0.0      0.0   \n",
      "delta cell      0.0  ...      0.0       0.0      0.0       0.0      0.0   \n",
      "alpha cell     30.0  ...      0.0       0.0      0.0       0.0      0.0   \n",
      "alpha cell      0.0  ...      0.0       0.0      0.0       0.0      0.0   \n",
      "alpha cell      1.0  ...      0.0       0.0      0.0       0.0      0.0   \n",
      "\n",
      "            KIR2DS1  KIR2DL2  KIR2DL4.1  KIR2DS3  KIR2DS2.1  \n",
      "delta cell      0.0      0.0        0.0      0.0        0.0  \n",
      "alpha cell      0.0      0.0        0.0      0.0        0.0  \n",
      "delta cell      0.0      0.0        0.0      0.0        0.0  \n",
      "gamma cell      0.0      0.0        0.0      0.0        0.0  \n",
      "alpha cell      0.0      0.0        0.0      0.0        0.0  \n",
      "...             ...      ...        ...      ...        ...  \n",
      "alpha cell      0.0      0.0        0.0      0.0        0.0  \n",
      "delta cell      0.0      0.0        0.0      0.0        0.0  \n",
      "alpha cell      0.0      0.0        0.0      0.0        0.0  \n",
      "alpha cell      0.0      0.0        0.0      0.0        0.0  \n",
      "alpha cell      0.0      0.0        0.0      0.0        0.0  \n",
      "\n",
      "[748 rows x 26177 columns]\n"
     ]
    }
   ],
   "source": [
    "csx = pd.DataFrame(train_set.X, index=train_set.obs.cell_types.values, columns=train_set.var.index.values)\n",
    "print(csx)"
   ]
  },
  {
   "cell_type": "code",
   "execution_count": 29,
   "metadata": {},
   "outputs": [
    {
     "name": "stdout",
     "output_type": "stream",
     "text": [
      "           delta cell  alpha cell  delta cell  gamma cell  alpha cell  \\\n",
      "SGIP1             0.0         0.0         0.0        32.0         0.0   \n",
      "AZIN2             0.0         0.0         0.0         0.0         0.0   \n",
      "CLIC4             3.0         0.0         0.0         1.0         0.0   \n",
      "AGBL4             0.0         0.0         0.0         0.0         0.0   \n",
      "NECAP2            0.0         0.0         0.0         0.0         0.0   \n",
      "...               ...         ...         ...         ...         ...   \n",
      "KIR2DS1           0.0         0.0         0.0         0.0         0.0   \n",
      "KIR2DL2           0.0         0.0         0.0         0.0         0.0   \n",
      "KIR2DL4.1         0.0         0.0         0.0         0.0         0.0   \n",
      "KIR2DS3           0.0         0.0         0.0         0.0         0.0   \n",
      "KIR2DS2.1         0.0         0.0         0.0         0.0         0.0   \n",
      "\n",
      "           beta cell  delta cell  delta cell  alpha cell  alpha cell  ...  \\\n",
      "SGIP1            0.0         0.0         0.0         0.0         0.0  ...   \n",
      "AZIN2            0.0         0.0         0.0         0.0         0.0  ...   \n",
      "CLIC4            0.0         0.0         0.0         0.0         0.0  ...   \n",
      "AGBL4            0.0         0.0         0.0         0.0         0.0  ...   \n",
      "NECAP2           0.0         0.0         1.0       149.0       187.0  ...   \n",
      "...              ...         ...         ...         ...         ...  ...   \n",
      "KIR2DS1          0.0         0.0         0.0         0.0         0.0  ...   \n",
      "KIR2DL2          0.0         0.0         0.0         0.0         0.0  ...   \n",
      "KIR2DL4.1        0.0         0.0         0.0         0.0         0.0  ...   \n",
      "KIR2DS3          0.0         0.0         0.0         0.0         0.0  ...   \n",
      "KIR2DS2.1        0.0         0.0         0.0         0.0         0.0  ...   \n",
      "\n",
      "           alpha cell  alpha cell  beta cell  delta cell  alpha cell  \\\n",
      "SGIP1             0.0         0.0        0.0         0.0         0.0   \n",
      "AZIN2             1.0         0.0        0.0         0.0         0.0   \n",
      "CLIC4             0.0         1.0        0.0         7.0         0.0   \n",
      "AGBL4             0.0         3.0        0.0         4.0         0.0   \n",
      "NECAP2            0.0        14.0        0.0         0.0         2.0   \n",
      "...               ...         ...        ...         ...         ...   \n",
      "KIR2DS1           0.0         0.0        0.0         0.0         0.0   \n",
      "KIR2DL2           0.0         0.0        0.0         0.0         0.0   \n",
      "KIR2DL4.1         0.0         0.0        0.0         0.0         0.0   \n",
      "KIR2DS3           0.0         0.0        0.0         0.0         0.0   \n",
      "KIR2DS2.1         0.0         0.0        0.0         0.0         0.0   \n",
      "\n",
      "           alpha cell  delta cell  alpha cell  alpha cell  alpha cell  \n",
      "SGIP1             0.0         0.0         0.0         0.0         0.0  \n",
      "AZIN2             0.0         0.0         0.0         5.0         0.0  \n",
      "CLIC4             6.0         0.0         0.0         0.0         0.0  \n",
      "AGBL4             0.0        11.0         0.0         0.0         0.0  \n",
      "NECAP2           28.0         0.0         5.0         1.0         1.0  \n",
      "...               ...         ...         ...         ...         ...  \n",
      "KIR2DS1           0.0         0.0         0.0         0.0         0.0  \n",
      "KIR2DL2           0.0         0.0         0.0         0.0         0.0  \n",
      "KIR2DL4.1         0.0         0.0         0.0         0.0         0.0  \n",
      "KIR2DS3           0.0         0.0         0.0         0.0         0.0  \n",
      "KIR2DS2.1         0.0         0.0         0.0         0.0         0.0  \n",
      "\n",
      "[26177 rows x 748 columns]\n"
     ]
    }
   ],
   "source": [
    "csx = csx.T\n",
    "print(csx)"
   ]
  },
  {
   "cell_type": "code",
   "execution_count": 30,
   "metadata": {},
   "outputs": [],
   "source": [
    "csx.to_csv('/home/mcb/users/ssue1/DECON/data/cibersortx/segerstolpe_healthy.txt', sep='\\t')"
   ]
  },
  {
   "cell_type": "code",
   "execution_count": 21,
   "metadata": {},
   "outputs": [
    {
     "name": "stderr",
     "output_type": "stream",
     "text": [
      "/home/mcb/users/ssue1/.conda/envs/idea/lib/python3.7/site-packages/anndata/_core/anndata.py:1208: ImplicitModificationWarning: Initializing view as actual.\n",
      "  \"Initializing view as actual.\", ImplicitModificationWarning\n",
      "Trying to set attribute `.obs` of view, copying.\n",
      "... storing 'Celltype' as categorical\n",
      "Trying to set attribute `.obs` of view, copying.\n",
      "... storing 'Subject' as categorical\n",
      "Trying to set attribute `.obs` of view, copying.\n",
      "... storing 'batch_indices' as categorical\n"
     ]
    }
   ],
   "source": [
    "train_set.write('/home/mcb/users/ssue1/DECON/data/Segerstolpe/healthy/pancreas_healthy_sc_scaden.h5ad')"
   ]
  },
  {
   "cell_type": "code",
   "execution_count": 53,
   "metadata": {},
   "outputs": [
    {
     "name": "stderr",
     "output_type": "stream",
     "text": [
      "Trying to set attribute `.obs` of view, copying.\n"
     ]
    },
    {
     "name": "stdout",
     "output_type": "stream",
     "text": [
      "View of AnnData object with n_obs × n_vars = 748 × 26177\n",
      "    obs: 'cell_types', 'Subject', 'batch_indices'\n"
     ]
    }
   ],
   "source": [
    "# Basic filtering\n",
    "import scanpy as sc\n",
    "sc.pp.filter_cells(new, min_genes=500)\n",
    "sc.pp.filter_genes(new, min_cells=5)\n",
    "print(train_set)"
   ]
  },
  {
   "cell_type": "code",
   "execution_count": 54,
   "metadata": {},
   "outputs": [],
   "source": [
    "sc.pp.normalize_total(new, target_sum=1e4, exclude_highly_expressed=True)"
   ]
  },
  {
   "cell_type": "code",
   "execution_count": 55,
   "metadata": {},
   "outputs": [],
   "source": [
    "sc.pp.log1p(new)"
   ]
  },
  {
   "cell_type": "code",
   "execution_count": 56,
   "metadata": {},
   "outputs": [],
   "source": [
    "from sklearn import preprocessing as pp\n",
    "\n",
    "def sample_scaling(x):\n",
    "    mms = pp.MinMaxScaler(feature_range=(0, 1), copy=True)\n",
    "    # it scales features so transpose is needed\n",
    "    x = mms.fit_transform(x.T).T\n",
    "    return x\n",
    "\n",
    "new.X = sample_scaling(new.X)"
   ]
  },
  {
   "cell_type": "code",
   "execution_count": 57,
   "metadata": {},
   "outputs": [
    {
     "name": "stdout",
     "output_type": "stream",
     "text": [
      "[[0.11428385 0.         0.         ... 0.         0.05050767 0.16790725]\n",
      " [0.         0.         0.         ... 0.06461013 0.19366086 0.        ]\n",
      " [0.         0.         0.         ... 0.         0.         0.22834481]\n",
      " ...\n",
      " [0.09176462 0.         0.01060669 ... 0.         0.05181009 0.01060669]\n",
      " [0.09423798 0.         0.11064791 ... 0.         0.02982393 0.        ]\n",
      " [0.15826498 0.         0.         ... 0.         0.11099605 0.05705225]]\n"
     ]
    }
   ],
   "source": [
    "print(new.X)"
   ]
  },
  {
   "cell_type": "code",
   "execution_count": 2,
   "metadata": {},
   "outputs": [
    {
     "name": "stdout",
     "output_type": "stream",
     "text": [
      "AnnData object with n_obs × n_vars = 23309 × 25350\n",
      "    obs: 'cell_types', 'Cell_SubType', 'Subject', 'Diagnosis', 'batch_indices', 'n_genes'\n",
      "    var: 'n_cells'\n"
     ]
    }
   ],
   "source": [
    "adata = ad.read_h5ad('/home/mcb/users/ssue1/DECON/data/MDD/mdd_healthy_sc_lake_fc_filtered_scanpp.h5ad')\n",
    "print(adata)"
   ]
  },
  {
   "cell_type": "code",
   "execution_count": 26,
   "metadata": {},
   "outputs": [
    {
     "name": "stdout",
     "output_type": "stream",
     "text": [
      "[[0.3787006  0.         0.         ... 0.         0.28841513 0.4314186 ]\n",
      " [0.         0.         0.         ... 0.2874448  0.42890576 0.        ]\n",
      " [0.         0.         0.         ... 0.         0.         0.4466488 ]\n",
      " ...\n",
      " [0.33730856 0.         0.13048877 ... 0.         0.27206418 0.13048877]\n",
      " [0.1933413  0.         0.21524353 ... 0.         0.08326757 0.        ]\n",
      " [0.24179861 0.         0.         ... 0.         0.18815589 0.11536726]]\n"
     ]
    }
   ],
   "source": [
    "print(adata.X)"
   ]
  },
  {
   "cell_type": "code",
   "execution_count": 91,
   "metadata": {},
   "outputs": [],
   "source": [
    "adata_filter = adata[adata.obs['Subject'].isin(['AZ','HP1502401','HP1504901','HP1506401','HP1507101'\n",
    "                                                           ]),:]"
   ]
  },
  {
   "cell_type": "code",
   "execution_count": 92,
   "metadata": {},
   "outputs": [
    {
     "name": "stdout",
     "output_type": "stream",
     "text": [
      "View of AnnData object with n_obs × n_vars = 905 × 18384\n",
      "    obs: 'cell_types', 'Subject', 'batch_indices', 'n_genes'\n",
      "    var: 'n_cells'\n"
     ]
    }
   ],
   "source": [
    "print(adata_filter)"
   ]
  },
  {
   "cell_type": "code",
   "execution_count": 16,
   "metadata": {},
   "outputs": [
    {
     "name": "stdout",
     "output_type": "stream",
     "text": [
      "AnnData object with n_obs × n_vars = 18 × 39849\n",
      "    obs: 'cell_types', 'batch_indices'\n"
     ]
    }
   ],
   "source": [
    "artificial = ad.read_h5ad('/home/mcb/users/ssue1/DECON/data/Xin/Xin_bulk.h5ad')\n",
    "print(artificial)"
   ]
  },
  {
   "cell_type": "code",
   "execution_count": 17,
   "metadata": {},
   "outputs": [
    {
     "name": "stdout",
     "output_type": "stream",
     "text": [
      "23925\n"
     ]
    }
   ],
   "source": [
    "genes = sorted(list(set(train_set.var_names).intersection(artificial.var_names)))\n",
    "print(len(genes))"
   ]
  },
  {
   "cell_type": "code",
   "execution_count": 52,
   "metadata": {},
   "outputs": [],
   "source": [
    "new = train_set[:, genes]"
   ]
  },
  {
   "cell_type": "code",
   "execution_count": 19,
   "metadata": {},
   "outputs": [],
   "source": [
    "sc.pp.highly_variable_genes(adata, min_mean=0.0125, max_mean=3, min_disp=0.5)"
   ]
  },
  {
   "cell_type": "code",
   "execution_count": 20,
   "metadata": {},
   "outputs": [
    {
     "data": {
      "image/png": "[encoded data removed]",
      "text/plain": [
       "<Figure size 864x288 with 2 Axes>"
      ]
     },
     "metadata": {
      "needs_background": "light"
     },
     "output_type": "display_data"
    }
   ],
   "source": [
    "sc.pl.highly_variable_genes(adata)"
   ]
  },
  {
   "cell_type": "code",
   "execution_count": 21,
   "metadata": {},
   "outputs": [],
   "source": [
    "adata = adata[:, adata.var.highly_variable]"
   ]
  },
  {
   "cell_type": "code",
   "execution_count": 22,
   "metadata": {},
   "outputs": [
    {
     "name": "stdout",
     "output_type": "stream",
     "text": [
      "View of AnnData object with n_obs × n_vars = 748 × 4374\n",
      "    obs: 'cell_types', 'Subject', 'batch_indices'\n",
      "    var: 'highly_variable', 'means', 'dispersions', 'dispersions_norm'\n",
      "    uns: 'hvg'\n"
     ]
    }
   ],
   "source": [
    "print(adata)"
   ]
  },
  {
   "cell_type": "code",
   "execution_count": 10,
   "metadata": {},
   "outputs": [],
   "source": [
    "X_test.write('/home/mcb/users/ssue1/DECON/data/MDD/nagy_test.h5ad')"
   ]
  },
  {
   "cell_type": "code",
   "execution_count": 6,
   "metadata": {},
   "outputs": [],
   "source": [
    "from sklearn.model_selection import train_test_split\n",
    "\n",
    "X_valid, X_test, y_valid, y_test = train_test_split(X_test, X_test.obs.cell_types, test_size=0.5, random_state=10)"
   ]
  },
  {
   "cell_type": "code",
   "execution_count": 4,
   "metadata": {},
   "outputs": [
    {
     "name": "stdout",
     "output_type": "stream",
     "text": [
      "View of AnnData object with n_obs × n_vars = 18647 × 25350\n",
      "    obs: 'cell_types', 'Cell_SubType', 'Subject', 'Diagnosis', 'batch_indices', 'n_genes'\n",
      "    var: 'n_cells'\n"
     ]
    }
   ],
   "source": [
    "print(X_train)"
   ]
  },
  {
   "cell_type": "code",
   "execution_count": 7,
   "metadata": {},
   "outputs": [
    {
     "data": {
      "text/plain": [
       "AnnData object with n_obs × n_vars = 20978 × 25350\n",
       "    obs: 'cell_types', 'Cell_SubType', 'Subject', 'Diagnosis', 'batch_indices', 'n_genes', 'batch'\n",
       "    var: 'n_cells'"
      ]
     },
     "execution_count": 7,
     "metadata": {},
     "output_type": "execute_result"
    }
   ],
   "source": [
    "merged = X_train.concatenate(X_valid)\n",
    "merged"
   ]
  },
  {
   "cell_type": "code",
   "execution_count": 33,
   "metadata": {},
   "outputs": [
    {
     "data": {
      "text/plain": [
       "View of AnnData object with n_obs × n_vars = 523 × 16436\n",
       "    obs: 'cell_types', 'Subject', 'batch_indices', 'n_genes'\n",
       "    var: 'n_cells'"
      ]
     },
     "execution_count": 33,
     "metadata": {},
     "output_type": "execute_result"
    }
   ],
   "source": [
    "X_train"
   ]
  },
  {
   "cell_type": "code",
   "execution_count": 33,
   "metadata": {},
   "outputs": [
    {
     "name": "stdout",
     "output_type": "stream",
     "text": [
      "AnnData object with n_obs × n_vars = 150 × 16436\n",
      "    obs: 'Celltype', 'Subject', 'batch_indices', 'n_genes'\n",
      "    var: 'n_cells'\n"
     ]
    }
   ],
   "source": [
    "adata = ad.read_h5ad('/home/mcb/users/ssue1/DECON/data/Segerstolpe/healthy/healthy_scaden_scanpp_xin_train.h5ad')\n",
    "print(adata)"
   ]
  },
  {
   "cell_type": "code",
   "execution_count": 44,
   "metadata": {},
   "outputs": [
    {
     "name": "stderr",
     "output_type": "stream",
     "text": [
      "/home/mcb/users/ssue1/.conda/envs/idea/lib/python3.7/site-packages/ipykernel_launcher.py:1: UserWarning: Pandas doesn't allow columns to be created via a new attribute name - see https://pandas.pydata.org/pandas-docs/stable/indexing.html#attribute-access\n",
      "  \"\"\"Entry point for launching an IPython kernel.\n"
     ]
    }
   ],
   "source": [
    "new.obs.cell_types = new.obs.Celltype"
   ]
  },
  {
   "cell_type": "code",
   "execution_count": 58,
   "metadata": {},
   "outputs": [
    {
     "data": {
      "text/plain": [
       "AnnData object with n_obs × n_vars = 748 × 16436\n",
       "    obs: 'cell_types', 'Subject', 'batch_indices', 'n_genes'\n",
       "    var: 'n_cells'\n",
       "    uns: 'log1p'"
      ]
     },
     "execution_count": 58,
     "metadata": {},
     "output_type": "execute_result"
    }
   ],
   "source": [
    "new"
   ]
  },
  {
   "cell_type": "code",
   "execution_count": 2,
   "metadata": {},
   "outputs": [
    {
     "data": {
      "text/plain": [
       "AnnData object with n_obs × n_vars = 748 × 16436\n",
       "    obs: 'cell_types', 'Subject', 'batch_indices', 'n_genes'\n",
       "    var: 'n_cells'"
      ]
     },
     "execution_count": 2,
     "metadata": {},
     "output_type": "execute_result"
    }
   ],
   "source": [
    "adata = ad.read_h5ad('/home/mcb/users/ssue1/DECON/data/Segerstolpe/healthy/healthy_scaden_scanpp_xin.h5ad')\n",
    "adata"
   ]
  },
  {
   "cell_type": "code",
   "execution_count": 3,
   "metadata": {},
   "outputs": [],
   "source": [
    "df = pd.DataFrame(adata.X, index=adata.obs.index.values, columns=adata.var.index.values)"
   ]
  },
  {
   "cell_type": "code",
   "execution_count": 4,
   "metadata": {},
   "outputs": [
    {
     "data": {
      "text/html": [
       "<div>\n",
       "<style scoped>\n",
       "    .dataframe tbody tr th:only-of-type {\n",
       "        vertical-align: middle;\n",
       "    }\n",
       "\n",
       "    .dataframe tbody tr th {\n",
       "        vertical-align: top;\n",
       "    }\n",
       "\n",
       "    .dataframe thead th {\n",
       "        text-align: right;\n",
       "    }\n",
       "</style>\n",
       "<table border=\"1\" class=\"dataframe\">\n",
       "  <thead>\n",
       "    <tr style=\"text-align: right;\">\n",
       "      <th></th>\n",
       "      <th>A1BG</th>\n",
       "      <th>A1BG-AS1</th>\n",
       "      <th>A1CF</th>\n",
       "      <th>A2M</th>\n",
       "      <th>A2M-AS1</th>\n",
       "      <th>A2ML1</th>\n",
       "      <th>A4GALT</th>\n",
       "      <th>AAAS</th>\n",
       "      <th>AACS</th>\n",
       "      <th>AADAT</th>\n",
       "      <th>...</th>\n",
       "      <th>ZWILCH</th>\n",
       "      <th>ZWINT</th>\n",
       "      <th>ZXDA</th>\n",
       "      <th>ZXDB</th>\n",
       "      <th>ZXDC</th>\n",
       "      <th>ZYG11A</th>\n",
       "      <th>ZYG11B</th>\n",
       "      <th>ZYX</th>\n",
       "      <th>ZZEF1</th>\n",
       "      <th>ZZZ3</th>\n",
       "    </tr>\n",
       "  </thead>\n",
       "  <tbody>\n",
       "    <tr>\n",
       "      <th>0</th>\n",
       "      <td>0.114284</td>\n",
       "      <td>0.0</td>\n",
       "      <td>0.000000</td>\n",
       "      <td>0.0</td>\n",
       "      <td>0.0</td>\n",
       "      <td>0.0</td>\n",
       "      <td>0.0</td>\n",
       "      <td>0.000000</td>\n",
       "      <td>0.000000</td>\n",
       "      <td>0.000000</td>\n",
       "      <td>...</td>\n",
       "      <td>0.000000</td>\n",
       "      <td>0.0</td>\n",
       "      <td>0.000000</td>\n",
       "      <td>0.000000</td>\n",
       "      <td>0.000000</td>\n",
       "      <td>0.0</td>\n",
       "      <td>0.000000</td>\n",
       "      <td>0.000000</td>\n",
       "      <td>0.050508</td>\n",
       "      <td>0.167907</td>\n",
       "    </tr>\n",
       "    <tr>\n",
       "      <th>1</th>\n",
       "      <td>0.000000</td>\n",
       "      <td>0.0</td>\n",
       "      <td>0.000000</td>\n",
       "      <td>0.0</td>\n",
       "      <td>0.0</td>\n",
       "      <td>0.0</td>\n",
       "      <td>0.0</td>\n",
       "      <td>0.160444</td>\n",
       "      <td>0.000000</td>\n",
       "      <td>0.000000</td>\n",
       "      <td>...</td>\n",
       "      <td>0.000000</td>\n",
       "      <td>0.0</td>\n",
       "      <td>0.000000</td>\n",
       "      <td>0.000000</td>\n",
       "      <td>0.000000</td>\n",
       "      <td>0.0</td>\n",
       "      <td>0.000000</td>\n",
       "      <td>0.064610</td>\n",
       "      <td>0.193661</td>\n",
       "      <td>0.000000</td>\n",
       "    </tr>\n",
       "    <tr>\n",
       "      <th>2</th>\n",
       "      <td>0.000000</td>\n",
       "      <td>0.0</td>\n",
       "      <td>0.000000</td>\n",
       "      <td>0.0</td>\n",
       "      <td>0.0</td>\n",
       "      <td>0.0</td>\n",
       "      <td>0.0</td>\n",
       "      <td>0.000000</td>\n",
       "      <td>0.000000</td>\n",
       "      <td>0.000000</td>\n",
       "      <td>...</td>\n",
       "      <td>0.120294</td>\n",
       "      <td>0.0</td>\n",
       "      <td>0.000000</td>\n",
       "      <td>0.000000</td>\n",
       "      <td>0.000000</td>\n",
       "      <td>0.0</td>\n",
       "      <td>0.167944</td>\n",
       "      <td>0.000000</td>\n",
       "      <td>0.000000</td>\n",
       "      <td>0.228345</td>\n",
       "    </tr>\n",
       "    <tr>\n",
       "      <th>3</th>\n",
       "      <td>0.000000</td>\n",
       "      <td>0.0</td>\n",
       "      <td>0.008973</td>\n",
       "      <td>0.0</td>\n",
       "      <td>0.0</td>\n",
       "      <td>0.0</td>\n",
       "      <td>0.0</td>\n",
       "      <td>0.000000</td>\n",
       "      <td>0.004559</td>\n",
       "      <td>0.000000</td>\n",
       "      <td>...</td>\n",
       "      <td>0.000000</td>\n",
       "      <td>0.0</td>\n",
       "      <td>0.000000</td>\n",
       "      <td>0.000000</td>\n",
       "      <td>0.000000</td>\n",
       "      <td>0.0</td>\n",
       "      <td>0.000000</td>\n",
       "      <td>0.000000</td>\n",
       "      <td>0.000000</td>\n",
       "      <td>0.013249</td>\n",
       "    </tr>\n",
       "    <tr>\n",
       "      <th>5</th>\n",
       "      <td>0.000000</td>\n",
       "      <td>0.0</td>\n",
       "      <td>0.000000</td>\n",
       "      <td>0.0</td>\n",
       "      <td>0.0</td>\n",
       "      <td>0.0</td>\n",
       "      <td>0.0</td>\n",
       "      <td>0.000000</td>\n",
       "      <td>0.000000</td>\n",
       "      <td>0.000000</td>\n",
       "      <td>...</td>\n",
       "      <td>0.000000</td>\n",
       "      <td>0.0</td>\n",
       "      <td>0.000000</td>\n",
       "      <td>0.009666</td>\n",
       "      <td>0.000000</td>\n",
       "      <td>0.0</td>\n",
       "      <td>0.000000</td>\n",
       "      <td>0.000000</td>\n",
       "      <td>0.000000</td>\n",
       "      <td>0.100456</td>\n",
       "    </tr>\n",
       "    <tr>\n",
       "      <th>...</th>\n",
       "      <td>...</td>\n",
       "      <td>...</td>\n",
       "      <td>...</td>\n",
       "      <td>...</td>\n",
       "      <td>...</td>\n",
       "      <td>...</td>\n",
       "      <td>...</td>\n",
       "      <td>...</td>\n",
       "      <td>...</td>\n",
       "      <td>...</td>\n",
       "      <td>...</td>\n",
       "      <td>...</td>\n",
       "      <td>...</td>\n",
       "      <td>...</td>\n",
       "      <td>...</td>\n",
       "      <td>...</td>\n",
       "      <td>...</td>\n",
       "      <td>...</td>\n",
       "      <td>...</td>\n",
       "      <td>...</td>\n",
       "      <td>...</td>\n",
       "    </tr>\n",
       "    <tr>\n",
       "      <th>1086</th>\n",
       "      <td>0.104502</td>\n",
       "      <td>0.0</td>\n",
       "      <td>0.043314</td>\n",
       "      <td>0.0</td>\n",
       "      <td>0.0</td>\n",
       "      <td>0.0</td>\n",
       "      <td>0.0</td>\n",
       "      <td>0.073662</td>\n",
       "      <td>0.055148</td>\n",
       "      <td>0.000000</td>\n",
       "      <td>...</td>\n",
       "      <td>0.000000</td>\n",
       "      <td>0.0</td>\n",
       "      <td>0.000000</td>\n",
       "      <td>0.000000</td>\n",
       "      <td>0.000000</td>\n",
       "      <td>0.0</td>\n",
       "      <td>0.026907</td>\n",
       "      <td>0.052285</td>\n",
       "      <td>0.000000</td>\n",
       "      <td>0.033709</td>\n",
       "    </tr>\n",
       "    <tr>\n",
       "      <th>1088</th>\n",
       "      <td>0.125668</td>\n",
       "      <td>0.0</td>\n",
       "      <td>0.000000</td>\n",
       "      <td>0.0</td>\n",
       "      <td>0.0</td>\n",
       "      <td>0.0</td>\n",
       "      <td>0.0</td>\n",
       "      <td>0.071460</td>\n",
       "      <td>0.000000</td>\n",
       "      <td>0.016578</td>\n",
       "      <td>...</td>\n",
       "      <td>0.000000</td>\n",
       "      <td>0.0</td>\n",
       "      <td>0.054906</td>\n",
       "      <td>0.000000</td>\n",
       "      <td>0.047495</td>\n",
       "      <td>0.0</td>\n",
       "      <td>0.026358</td>\n",
       "      <td>0.000000</td>\n",
       "      <td>0.000000</td>\n",
       "      <td>0.054906</td>\n",
       "    </tr>\n",
       "    <tr>\n",
       "      <th>1090</th>\n",
       "      <td>0.091765</td>\n",
       "      <td>0.0</td>\n",
       "      <td>0.010607</td>\n",
       "      <td>0.0</td>\n",
       "      <td>0.0</td>\n",
       "      <td>0.0</td>\n",
       "      <td>0.0</td>\n",
       "      <td>0.007157</td>\n",
       "      <td>0.095589</td>\n",
       "      <td>0.000000</td>\n",
       "      <td>...</td>\n",
       "      <td>0.000000</td>\n",
       "      <td>0.0</td>\n",
       "      <td>0.000000</td>\n",
       "      <td>0.000000</td>\n",
       "      <td>0.000000</td>\n",
       "      <td>0.0</td>\n",
       "      <td>0.010607</td>\n",
       "      <td>0.000000</td>\n",
       "      <td>0.051810</td>\n",
       "      <td>0.010607</td>\n",
       "    </tr>\n",
       "    <tr>\n",
       "      <th>1091</th>\n",
       "      <td>0.094238</td>\n",
       "      <td>0.0</td>\n",
       "      <td>0.110648</td>\n",
       "      <td>0.0</td>\n",
       "      <td>0.0</td>\n",
       "      <td>0.0</td>\n",
       "      <td>0.0</td>\n",
       "      <td>0.094238</td>\n",
       "      <td>0.216435</td>\n",
       "      <td>0.000000</td>\n",
       "      <td>...</td>\n",
       "      <td>0.000000</td>\n",
       "      <td>0.0</td>\n",
       "      <td>0.029824</td>\n",
       "      <td>0.000000</td>\n",
       "      <td>0.000000</td>\n",
       "      <td>0.0</td>\n",
       "      <td>0.000000</td>\n",
       "      <td>0.000000</td>\n",
       "      <td>0.029824</td>\n",
       "      <td>0.000000</td>\n",
       "    </tr>\n",
       "    <tr>\n",
       "      <th>1093</th>\n",
       "      <td>0.158265</td>\n",
       "      <td>0.0</td>\n",
       "      <td>0.000000</td>\n",
       "      <td>0.0</td>\n",
       "      <td>0.0</td>\n",
       "      <td>0.0</td>\n",
       "      <td>0.0</td>\n",
       "      <td>0.095562</td>\n",
       "      <td>0.077845</td>\n",
       "      <td>0.000000</td>\n",
       "      <td>...</td>\n",
       "      <td>0.000000</td>\n",
       "      <td>0.0</td>\n",
       "      <td>0.031885</td>\n",
       "      <td>0.000000</td>\n",
       "      <td>0.000000</td>\n",
       "      <td>0.0</td>\n",
       "      <td>0.031885</td>\n",
       "      <td>0.000000</td>\n",
       "      <td>0.110996</td>\n",
       "      <td>0.057052</td>\n",
       "    </tr>\n",
       "  </tbody>\n",
       "</table>\n",
       "<p>748 rows × 16436 columns</p>\n",
       "</div>"
      ],
      "text/plain": [
       "          A1BG  A1BG-AS1      A1CF  A2M  A2M-AS1  A2ML1  A4GALT      AAAS  \\\n",
       "0     0.114284       0.0  0.000000  0.0      0.0    0.0     0.0  0.000000   \n",
       "1     0.000000       0.0  0.000000  0.0      0.0    0.0     0.0  0.160444   \n",
       "2     0.000000       0.0  0.000000  0.0      0.0    0.0     0.0  0.000000   \n",
       "3     0.000000       0.0  0.008973  0.0      0.0    0.0     0.0  0.000000   \n",
       "5     0.000000       0.0  0.000000  0.0      0.0    0.0     0.0  0.000000   \n",
       "...        ...       ...       ...  ...      ...    ...     ...       ...   \n",
       "1086  0.104502       0.0  0.043314  0.0      0.0    0.0     0.0  0.073662   \n",
       "1088  0.125668       0.0  0.000000  0.0      0.0    0.0     0.0  0.071460   \n",
       "1090  0.091765       0.0  0.010607  0.0      0.0    0.0     0.0  0.007157   \n",
       "1091  0.094238       0.0  0.110648  0.0      0.0    0.0     0.0  0.094238   \n",
       "1093  0.158265       0.0  0.000000  0.0      0.0    0.0     0.0  0.095562   \n",
       "\n",
       "          AACS     AADAT  ...    ZWILCH  ZWINT      ZXDA      ZXDB      ZXDC  \\\n",
       "0     0.000000  0.000000  ...  0.000000    0.0  0.000000  0.000000  0.000000   \n",
       "1     0.000000  0.000000  ...  0.000000    0.0  0.000000  0.000000  0.000000   \n",
       "2     0.000000  0.000000  ...  0.120294    0.0  0.000000  0.000000  0.000000   \n",
       "3     0.004559  0.000000  ...  0.000000    0.0  0.000000  0.000000  0.000000   \n",
       "5     0.000000  0.000000  ...  0.000000    0.0  0.000000  0.009666  0.000000   \n",
       "...        ...       ...  ...       ...    ...       ...       ...       ...   \n",
       "1086  0.055148  0.000000  ...  0.000000    0.0  0.000000  0.000000  0.000000   \n",
       "1088  0.000000  0.016578  ...  0.000000    0.0  0.054906  0.000000  0.047495   \n",
       "1090  0.095589  0.000000  ...  0.000000    0.0  0.000000  0.000000  0.000000   \n",
       "1091  0.216435  0.000000  ...  0.000000    0.0  0.029824  0.000000  0.000000   \n",
       "1093  0.077845  0.000000  ...  0.000000    0.0  0.031885  0.000000  0.000000   \n",
       "\n",
       "      ZYG11A    ZYG11B       ZYX     ZZEF1      ZZZ3  \n",
       "0        0.0  0.000000  0.000000  0.050508  0.167907  \n",
       "1        0.0  0.000000  0.064610  0.193661  0.000000  \n",
       "2        0.0  0.167944  0.000000  0.000000  0.228345  \n",
       "3        0.0  0.000000  0.000000  0.000000  0.013249  \n",
       "5        0.0  0.000000  0.000000  0.000000  0.100456  \n",
       "...      ...       ...       ...       ...       ...  \n",
       "1086     0.0  0.026907  0.052285  0.000000  0.033709  \n",
       "1088     0.0  0.026358  0.000000  0.000000  0.054906  \n",
       "1090     0.0  0.010607  0.000000  0.051810  0.010607  \n",
       "1091     0.0  0.000000  0.000000  0.029824  0.000000  \n",
       "1093     0.0  0.031885  0.000000  0.110996  0.057052  \n",
       "\n",
       "[748 rows x 16436 columns]"
      ]
     },
     "execution_count": 4,
     "metadata": {},
     "output_type": "execute_result"
    }
   ],
   "source": [
    "df"
   ]
  },
  {
   "cell_type": "code",
   "execution_count": 5,
   "metadata": {},
   "outputs": [
    {
     "data": {
      "text/plain": [
       "0       delta cell\n",
       "1       alpha cell\n",
       "2       delta cell\n",
       "3       gamma cell\n",
       "5       alpha cell\n",
       "           ...    \n",
       "1086    alpha cell\n",
       "1088    delta cell\n",
       "1090    alpha cell\n",
       "1091    alpha cell\n",
       "1093    alpha cell\n",
       "Name: cell_types, Length: 748, dtype: category\n",
       "Categories (4, object): ['alpha cell', 'beta cell', 'delta cell', 'gamma cell']"
      ]
     },
     "execution_count": 5,
     "metadata": {},
     "output_type": "execute_result"
    }
   ],
   "source": [
    "cells = adata.obs.cell_types\n",
    "cells"
   ]
  },
  {
   "cell_type": "code",
   "execution_count": 7,
   "metadata": {},
   "outputs": [],
   "source": [
    "cells.to_csv('/home/mcb/users/ssue1/DECON/data/Segerstolpe/healthy/healthy_scaden_scanpp_xin_cells.csv')"
   ]
  },
  {
   "cell_type": "code",
   "execution_count": null,
   "metadata": {},
   "outputs": [],
   "source": []
  }
 ],
 "metadata": {
  "kernelspec": {
   "display_name": "Python 3",
   "language": "python",
   "name": "python3"
  },
  "language_info": {
   "codemirror_mode": {
    "name": "ipython",
    "version": 3
   },
   "file_extension": ".py",
   "mimetype": "text/x-python",
   "name": "python",
   "nbconvert_exporter": "python",
   "pygments_lexer": "ipython3",
   "version": "3.7.6"
  }
 },
 "nbformat": 4,
 "nbformat_minor": 4
}
