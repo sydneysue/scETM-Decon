{
 "cells": [
  {
   "cell_type": "code",
   "execution_count": 1,
   "metadata": {},
   "outputs": [],
   "source": [
    "import numpy as np\n",
    "import pandas as pd\n",
    "import scipy.io\n",
    "import scanpy as sc\n",
    "import matplotlib.pyplot as plt\n",
    "import anndata as ad"
   ]
  },
  {
   "cell_type": "code",
   "execution_count": 2,
   "metadata": {},
   "outputs": [
    {
     "name": "stdout",
     "output_type": "stream",
     "text": [
      "(78886, 30062)\n"
     ]
    }
   ],
   "source": [
    "# Load data\n",
    "matrix = scipy.io.mmread('/home/mcb/users/ssue1/DECON/data/MDD/MDD_GEO/GSE144136_GeneBarcodeMatrix_Annotated.mtx')\n",
    "full_matrix = matrix.toarray()\n",
    "\n",
    "cells = pd.read_csv('/home/mcb/users/ssue1/DECON/data/MDD/MDD_GEO/GSE144136_CellNames.csv', index_col=0)\n",
    "\n",
    "genes = pd.read_csv('/home/mcb/users/ssue1/DECON/data/MDD/MDD_GEO/GSE144136_GeneNames.csv', index_col=0)\n",
    "\n",
    "df = pd.DataFrame(full_matrix, index=genes['x'], columns=cells.index)\n",
    "df = df.T\n",
    "\n",
    "X = df.values\n",
    "\n",
    "print(df.shape)"
   ]
  },
  {
   "cell_type": "code",
   "execution_count": 3,
   "metadata": {},
   "outputs": [
    {
     "name": "stdout",
     "output_type": "stream",
     "text": [
      "x      RP11-34P13.3  RP11-34P13.7  RP11-34P13.14  FO538757.3  FO538757.2  \\\n",
      "1                 0             0              0           0           1   \n",
      "2                 0             0              0           0           1   \n",
      "3                 0             0              0           0           1   \n",
      "4                 0             0              0           0           0   \n",
      "5                 0             0              0           0           0   \n",
      "...             ...           ...            ...         ...         ...   \n",
      "78882             0             0              0           0           0   \n",
      "78883             0             0              0           0           0   \n",
      "78884             0             0              0           0           0   \n",
      "78885             0             0              0           0           0   \n",
      "78886             0             0              0           0           0   \n",
      "\n",
      "x      AP006222.2  RP5-857K21.15  RP4-669L17.2  RP4-669L17.10  RP5-857K21.4  \\\n",
      "1               0              0             0              0             0   \n",
      "2               0              0             0              0             1   \n",
      "3               0              0             0              0             0   \n",
      "4               0              0             0              0             1   \n",
      "5               0              0             0              0             1   \n",
      "...           ...            ...           ...            ...           ...   \n",
      "78882           0              0             0              0             0   \n",
      "78883           0              0             0              0             0   \n",
      "78884           0              0             0              0             3   \n",
      "78885           1              0             0              0             0   \n",
      "78886           0              0             0              0             0   \n",
      "\n",
      "x      ...  AC011043.2  AL592183.1  AC007325.4  AC007325.2  BX072566.1  \\\n",
      "1      ...           0           0           0           0           0   \n",
      "2      ...           0           0           0           0           0   \n",
      "3      ...           0           0           0           0           0   \n",
      "4      ...           0           0           0           0           0   \n",
      "5      ...           0           0           0           0           0   \n",
      "...    ...         ...         ...         ...         ...         ...   \n",
      "78882  ...           0           0           0           0           0   \n",
      "78883  ...           0           0           0           0           0   \n",
      "78884  ...           0           0           0           0           0   \n",
      "78885  ...           0           0           0           0           0   \n",
      "78886  ...           0           0           0           0           0   \n",
      "\n",
      "x      AL354822.1  AC023491.2  AC004556.1  AC240274.1  FAM231B  \n",
      "1               0           0           0           0        0  \n",
      "2               0           0           0           0        0  \n",
      "3               0           0           0           0        0  \n",
      "4               0           0           0           0        0  \n",
      "5               0           0           0           0        0  \n",
      "...           ...         ...         ...         ...      ...  \n",
      "78882           0           0           0           0        0  \n",
      "78883           0           0           0           0        0  \n",
      "78884           0           0           0           0        0  \n",
      "78885           0           0           0           0        0  \n",
      "78886           0           0           0           0        0  \n",
      "\n",
      "[78886 rows x 30062 columns]\n"
     ]
    }
   ],
   "source": [
    "print(df)"
   ]
  },
  {
   "cell_type": "code",
   "execution_count": 4,
   "metadata": {},
   "outputs": [
    {
     "name": "stdout",
     "output_type": "stream",
     "text": [
      "AnnData object with n_obs × n_vars = 78886 × 30062\n",
      "    obs: 'cell_types', 'Cell_SubType', 'Subject', 'Diagnosis', 'batch_indices'\n"
     ]
    }
   ],
   "source": [
    "def populateAnnData(mat,df, cells):\n",
    "    import anndata\n",
    "    adata = anndata.AnnData(X=mat)\n",
    "    adata.var_names = df.columns.values\n",
    "    adata.obs['cell_types'] = cells['Cell_Type'].values\n",
    "    adata.obs['Cell_SubType'] = cells['Cell_SubType'].values\n",
    "    adata.obs['Subject'] = cells['Subject'].values\n",
    "    adata.obs['Diagnosis'] = cells['Diagnosis'].values\n",
    "    adata.obs['batch_indices'] = cells['Batch'].values\n",
    "    return adata\n",
    "\n",
    "adata = populateAnnData(X, df, cells)\n",
    "print(adata)"
   ]
  },
  {
   "cell_type": "code",
   "execution_count": 21,
   "metadata": {},
   "outputs": [
    {
     "name": "stdout",
     "output_type": "stream",
     "text": [
      "AnnData object with n_obs × n_vars = 23598 × 30062\n",
      "    obs: 'cell_types', 'Cell_SubType', 'Subject', 'Diagnosis', 'batch_indices'\n"
     ]
    }
   ],
   "source": [
    "adata = ad.read_h5ad('/home/mcb/users/ssue1/DECON/data/MDD/loo.h5ad')\n",
    "print(adata)"
   ]
  },
  {
   "cell_type": "code",
   "execution_count": 3,
   "metadata": {},
   "outputs": [
    {
     "data": {
      "text/plain": [
       "array([ 3,  9, 12, 13, 15, 20, 21, 24, 25,  2,  7, 16, 19, 27, 29, 31, 22])"
      ]
     },
     "execution_count": 3,
     "metadata": {},
     "output_type": "execute_result"
    }
   ],
   "source": [
    "adata.obs.Subject.unique()"
   ]
  },
  {
   "cell_type": "code",
   "execution_count": 4,
   "metadata": {},
   "outputs": [
    {
     "data": {
      "text/plain": [
       "View of AnnData object with n_obs × n_vars = 23598 × 30062\n",
       "    obs: 'cell_types', 'Cell_SubType', 'Subject', 'Diagnosis', 'batch_indices'"
      ]
     },
     "execution_count": 4,
     "metadata": {},
     "output_type": "execute_result"
    }
   ],
   "source": [
    "adata_filter = adata[~adata.obs['Subject'].isin(['13','15', '20']),:]\n",
    "adata_filter"
   ]
  },
  {
   "cell_type": "code",
   "execution_count": 5,
   "metadata": {},
   "outputs": [],
   "source": [
    "adata_filter.write('/home/mcb/users/ssue1/DECON/data/MDD/loo.h5ad')"
   ]
  },
  {
   "cell_type": "code",
   "execution_count": 22,
   "metadata": {},
   "outputs": [
    {
     "name": "stdout",
     "output_type": "stream",
     "text": [
      "0                 Ex\n",
      "1              Inhib\n",
      "2                 Ex\n",
      "3                 Ex\n",
      "4              Inhib\n",
      "            ...     \n",
      "75654          Inhib\n",
      "75655          Inhib\n",
      "75656    Micro/Macro\n",
      "75657             Ex\n",
      "75658             Ex\n",
      "Name: cell_types, Length: 23598, dtype: category\n",
      "Categories (7, object): ['Astros', 'Endo', 'Ex', 'Inhib', 'Micro/Macro', 'OPCs', 'Oligos']\n"
     ]
    }
   ],
   "source": [
    "print(adata.obs.cell_types)"
   ]
  },
  {
   "cell_type": "code",
   "execution_count": 4,
   "metadata": {},
   "outputs": [
    {
     "name": "stdout",
     "output_type": "stream",
     "text": [
      "View of AnnData object with n_obs × n_vars = 32700 × 30062\n",
      "    obs: 'cell_types', 'Cell_SubType', 'Subject', 'Diagnosis', 'batch_indices'\n"
     ]
    }
   ],
   "source": [
    "adata_filter = adata[~adata.obs['cell_types'].isin(['Mix']),:]\n",
    "print(adata_filter)"
   ]
  },
  {
   "cell_type": "code",
   "execution_count": 5,
   "metadata": {},
   "outputs": [],
   "source": [
    "adata_filter.write('/home/mcb/users/ssue1/DECON/data/MDD/mdd_scaden_forbulk.h5ad')"
   ]
  },
  {
   "cell_type": "code",
   "execution_count": 4,
   "metadata": {},
   "outputs": [
    {
     "name": "stdout",
     "output_type": "stream",
     "text": [
      "View of AnnData object with n_obs × n_vars = 32158 × 30062\n",
      "    obs: 'cell_types', 'Cell_SubType', 'Subject', 'Diagnosis', 'batch_indices'\n"
     ]
    }
   ],
   "source": [
    "adata_filter = adata_filter[adata_filter.obs['Diagnosis'].isin(['0']),:]\n",
    "print(adata_filter)"
   ]
  },
  {
   "cell_type": "code",
   "execution_count": 24,
   "metadata": {},
   "outputs": [
    {
     "name": "stdout",
     "output_type": "stream",
     "text": [
      "[0]\n"
     ]
    }
   ],
   "source": [
    "print(adata.obs.Diagnosis.unique())"
   ]
  },
  {
   "cell_type": "code",
   "execution_count": 28,
   "metadata": {},
   "outputs": [
    {
     "name": "stderr",
     "output_type": "stream",
     "text": [
      "Trying to set attribute `.obs` of view, copying.\n"
     ]
    },
    {
     "name": "stdout",
     "output_type": "stream",
     "text": [
      "AnnData object with n_obs × n_vars = 16269 × 25677\n",
      "    obs: 'cell_types', 'Cell_SubType', 'Subject', 'Diagnosis', 'batch_indices', 'n_genes'\n",
      "    var: 'n_cells'\n"
     ]
    }
   ],
   "source": [
    "sc.pp.filter_cells(adata, min_genes=500)\n",
    "sc.pp.filter_genes(adata, min_cells=5)\n",
    "print(adata)"
   ]
  },
  {
   "cell_type": "code",
   "execution_count": 29,
   "metadata": {},
   "outputs": [],
   "source": [
    "sc.pp.normalize_total(adata, target_sum=1e4, exclude_highly_expressed=True)"
   ]
  },
  {
   "cell_type": "code",
   "execution_count": 30,
   "metadata": {},
   "outputs": [],
   "source": [
    "sc.pp.log1p(adata)"
   ]
  },
  {
   "cell_type": "code",
   "execution_count": 31,
   "metadata": {},
   "outputs": [
    {
     "name": "stdout",
     "output_type": "stream",
     "text": [
      "AnnData object with n_obs × n_vars = 16269 × 25677\n",
      "    obs: 'cell_types', 'Cell_SubType', 'Subject', 'Diagnosis', 'batch_indices', 'n_genes'\n",
      "    var: 'n_cells'\n",
      "    uns: 'log1p'\n"
     ]
    }
   ],
   "source": [
    "from sklearn import preprocessing as pp\n",
    "\n",
    "def sample_scaling(x):\n",
    "    mms = pp.MinMaxScaler(feature_range=(0, 1), copy=True)\n",
    "    # it scales features so transpose is needed\n",
    "    x = mms.fit_transform(x.T).T\n",
    "    return x\n",
    "\n",
    "adata.X = sample_scaling(adata.X)\n",
    "print(adata)"
   ]
  },
  {
   "cell_type": "code",
   "execution_count": 16,
   "metadata": {},
   "outputs": [
    {
     "data": {
      "text/plain": [
       "['Ex', 'Inhib', 'Astros', 'Oligos', 'OPCs', 'Micro/Macro', 'Endo']\n",
       "Categories (7, object): ['Ex', 'Inhib', 'Astros', 'Oligos', 'OPCs', 'Micro/Macro', 'Endo']"
      ]
     },
     "execution_count": 16,
     "metadata": {},
     "output_type": "execute_result"
    }
   ],
   "source": [
    "adata.obs.cell_types.unique()"
   ]
  },
  {
   "cell_type": "code",
   "execution_count": 32,
   "metadata": {},
   "outputs": [],
   "source": [
    "adata.write('/home/mcb/users/ssue1/DECON/data/MDD/mdd_loo_labonte_filtered.h5ad')"
   ]
  },
  {
   "cell_type": "code",
   "execution_count": 2,
   "metadata": {},
   "outputs": [
    {
     "name": "stdout",
     "output_type": "stream",
     "text": [
      "['Ex', 'Inhib', 'Oligos', 'Astros', 'Micro/Macro', 'OPCs', 'Endo']\n",
      "Categories (7, object): ['Ex', 'Inhib', 'Oligos', 'Astros', 'Micro/Macro', 'OPCs', 'Endo']\n"
     ]
    }
   ],
   "source": [
    "adata = ad.read_h5ad('/home/mcb/users/ssue1/DECON/data/MDD/mdd_healthy_filtered.h5ad')\n",
    "print(adata.obs.cell_types.unique())"
   ]
  },
  {
   "cell_type": "code",
   "execution_count": 3,
   "metadata": {},
   "outputs": [
    {
     "data": {
      "text/plain": [
       "AnnData object with n_obs × n_vars = 32700 × 30062\n",
       "    obs: 'cell_types', 'Cell_SubType', 'Subject', 'Diagnosis', 'batch_indices'"
      ]
     },
     "execution_count": 3,
     "metadata": {},
     "output_type": "execute_result"
    }
   ],
   "source": [
    "adata"
   ]
  },
  {
   "cell_type": "code",
   "execution_count": 33,
   "metadata": {},
   "outputs": [],
   "source": [
    "from sklearn.model_selection import train_test_split\n",
    "\n",
    "X_train, X_test, y_train, y_test = train_test_split(adata, adata.obs.cell_types, test_size=0.15, random_state=10)"
   ]
  },
  {
   "cell_type": "code",
   "execution_count": 20,
   "metadata": {},
   "outputs": [
    {
     "name": "stdout",
     "output_type": "stream",
     "text": [
      "View of AnnData object with n_obs × n_vars = 16339 × 25350\n",
      "    obs: 'cell_types', 'Cell_SubType', 'Subject', 'Diagnosis', 'batch_indices', 'n_genes'\n",
      "    var: 'n_cells'\n",
      "    uns: 'log1p'\n"
     ]
    }
   ],
   "source": [
    "print(X_train)"
   ]
  },
  {
   "cell_type": "code",
   "execution_count": 21,
   "metadata": {},
   "outputs": [
    {
     "name": "stdout",
     "output_type": "stream",
     "text": [
      "View of AnnData object with n_obs × n_vars = 7003 × 25350\n",
      "    obs: 'cell_types', 'Cell_SubType', 'Subject', 'Diagnosis', 'batch_indices', 'n_genes'\n",
      "    var: 'n_cells'\n",
      "    uns: 'log1p'\n"
     ]
    }
   ],
   "source": [
    "print(X_test)"
   ]
  },
  {
   "cell_type": "code",
   "execution_count": 16,
   "metadata": {},
   "outputs": [
    {
     "name": "stdout",
     "output_type": "stream",
     "text": [
      "View of AnnData object with n_obs × n_vars = 23435 × 25920\n",
      "    obs: 'cell_types', 'Cell_SubType', 'Subject', 'Diagnosis', 'batch_indices', 'n_genes'\n",
      "    var: 'n_cells'\n"
     ]
    }
   ],
   "source": [
    "print(healthy)"
   ]
  },
  {
   "cell_type": "code",
   "execution_count": 35,
   "metadata": {},
   "outputs": [],
   "source": [
    "X_train.write('/home/mcb/users/ssue1/DECON/data/MDD/mdd_loo_labonte_filtered_train.h5ad')"
   ]
  },
  {
   "cell_type": "code",
   "execution_count": 6,
   "metadata": {},
   "outputs": [
    {
     "name": "stdout",
     "output_type": "stream",
     "text": [
      "             17   20  150  150_ofc  17_dlpfc  20_dlpfc  150_dlpfc\n",
      "5S_rRNA       2    6    3        8         4         8         20\n",
      "5_8S_rRNA     0    0    0        0         0         0          0\n",
      "7SK          21   15   13       18        23        14         45\n",
      "A1BG         45   43   26       72        36        48        102\n",
      "A1BG-AS1    128   74   55       86        77        86        226\n",
      "...         ...  ...  ...      ...       ...       ...        ...\n",
      "snoZ40        0    0    0        0         0         0          0\n",
      "snoZ6         0    0    0        0         0         0          0\n",
      "snosnR66      0    0    0        0         0         0          0\n",
      "uc_338      108  123   54      124       108       114        314\n",
      "yR211F11.2    2    2    6        6        12         6         16\n",
      "\n",
      "[58131 rows x 7 columns]\n"
     ]
    }
   ],
   "source": [
    "bulk = pd.read_csv('/home/mcb/users/ssue1/DECON/data/MDD/aINS_loo.csv', index_col=0)\n",
    "print(bulk)"
   ]
  },
  {
   "cell_type": "code",
   "execution_count": 6,
   "metadata": {},
   "outputs": [],
   "source": [
    "bulk = bulk.T"
   ]
  },
  {
   "cell_type": "code",
   "execution_count": 7,
   "metadata": {},
   "outputs": [
    {
     "name": "stdout",
     "output_type": "stream",
     "text": [
      "             1      2     3     4     5     6     7      8      9      10  \\\n",
      "A1BG        1.0    0.0   0.0   0.0   0.0   0.0   1.0    0.0    0.0    1.0   \n",
      "A1BG-AS1   20.0   31.0   5.0   4.0   5.0   8.0  12.0   17.0   21.0   19.0   \n",
      "A1CF        0.0    1.0   0.0   0.0   0.0   0.0   0.0    2.0    0.0    0.0   \n",
      "A2M         5.0    7.0   1.0   5.0   2.0   1.0   1.0    5.0    5.0    4.0   \n",
      "A2M-AS1     3.0    4.0   2.0   2.0   2.0   2.0   1.0    1.0    1.0    1.0   \n",
      "...         ...    ...   ...   ...   ...   ...   ...    ...    ...    ...   \n",
      "ZYG11A      0.0    0.0   0.0   0.0   0.0   0.0   0.0    1.0    0.0    0.0   \n",
      "ZYG11B    157.0  208.0  37.0  44.0  51.0  96.0  78.0  125.0  124.0  117.0   \n",
      "ZYX        81.0   62.0   5.0   8.0  12.0  14.0   8.0   39.0   31.0   49.0   \n",
      "ZZEF1      91.0  111.0  25.0  24.0  31.0  37.0  26.0   95.0   84.0   71.0   \n",
      "ZZZ3       80.0  129.0  22.0  47.0  44.0  83.0  42.0  136.0  131.0   96.0   \n",
      "\n",
      "             11    12    13  \n",
      "A1BG        0.0   0.0   0.0  \n",
      "A1BG-AS1   37.0  11.0  12.0  \n",
      "A1CF        1.0   0.0   0.0  \n",
      "A2M        16.0   6.0   6.0  \n",
      "A2M-AS1     1.0   0.0   0.0  \n",
      "...         ...   ...   ...  \n",
      "ZYG11A      0.0   0.0   0.0  \n",
      "ZYG11B    180.0  84.0  97.0  \n",
      "ZYX        55.0  45.0  48.0  \n",
      "ZZEF1     116.0  55.0  30.0  \n",
      "ZZZ3      142.0  52.0  57.0  \n",
      "\n",
      "[34305 rows x 13 columns]\n"
     ]
    }
   ],
   "source": [
    "print(bulk)"
   ]
  },
  {
   "cell_type": "code",
   "execution_count": 25,
   "metadata": {},
   "outputs": [
    {
     "name": "stdout",
     "output_type": "stream",
     "text": [
      "29149\n"
     ]
    }
   ],
   "source": [
    "genes = sorted(list(set(bulk.index).intersection(adata.var_names)))\n",
    "print(len(genes))"
   ]
  },
  {
   "cell_type": "code",
   "execution_count": 26,
   "metadata": {},
   "outputs": [],
   "source": [
    "adata = adata[:, genes]"
   ]
  },
  {
   "cell_type": "code",
   "execution_count": 27,
   "metadata": {},
   "outputs": [
    {
     "name": "stdout",
     "output_type": "stream",
     "text": [
      "View of AnnData object with n_obs × n_vars = 23598 × 29149\n",
      "    obs: 'cell_types', 'Cell_SubType', 'Subject', 'Diagnosis', 'batch_indices'\n"
     ]
    }
   ],
   "source": [
    "print(adata)"
   ]
  },
  {
   "cell_type": "code",
   "execution_count": 24,
   "metadata": {},
   "outputs": [
    {
     "name": "stdout",
     "output_type": "stream",
     "text": [
      "[1 1 1]\n"
     ]
    }
   ],
   "source": [
    "batch = np.ones((3,), dtype=int)\n",
    "print(batch)"
   ]
  },
  {
   "cell_type": "code",
   "execution_count": 28,
   "metadata": {},
   "outputs": [],
   "source": [
    "X = s17.values"
   ]
  },
  {
   "cell_type": "code",
   "execution_count": 30,
   "metadata": {},
   "outputs": [
    {
     "name": "stdout",
     "output_type": "stream",
     "text": [
      "AnnData object with n_obs × n_vars = 3 × 57773\n",
      "    obs: 'cell_types', 'batch_indices'\n"
     ]
    }
   ],
   "source": [
    "def populateAnnData(mat,adata, final):\n",
    "    import anndata\n",
    "    adata = anndata.AnnData(X=mat)\n",
    "    adata.var_names = s17.columns.values\n",
    "    adata.obs['cell_types'] = s17.index.values\n",
    "    adata.obs['batch_indices'] = batch\n",
    "    return adata\n",
    "\n",
    "bulk17 = populateAnnData(X, s17, batch)\n",
    "print(bulk17)"
   ]
  },
  {
   "cell_type": "code",
   "execution_count": 21,
   "metadata": {},
   "outputs": [
    {
     "name": "stdout",
     "output_type": "stream",
     "text": [
      "AnnData object with n_obs × n_vars = 32700 × 30062\n",
      "    obs: 'cell_types', 'Cell_SubType', 'Subject', 'Diagnosis', 'batch_indices'\n"
     ]
    }
   ],
   "source": [
    "adata = ad.read_h5ad('/home/mcb/users/ssue1/DECON/data/MDD/mdd_healthy_sc.h5ad')\n",
    "print(adata)"
   ]
  },
  {
   "cell_type": "code",
   "execution_count": 24,
   "metadata": {},
   "outputs": [
    {
     "name": "stdout",
     "output_type": "stream",
     "text": [
      "       RP11-34P13.3  RP11-34P13.7  RP11-34P13.14  FO538757.3  FO538757.2  \\\n",
      "0                 0             0              0           0           1   \n",
      "1                 0             0              0           0           1   \n",
      "2                 0             0              0           0           1   \n",
      "3                 0             0              0           0           0   \n",
      "4                 0             0              0           0           0   \n",
      "...             ...           ...            ...         ...         ...   \n",
      "75653             0             0              0           0           0   \n",
      "75654             0             0              0           0           1   \n",
      "75655             0             0              0           0           1   \n",
      "75657             0             0              0           0           0   \n",
      "75658             0             0              0           0           0   \n",
      "\n",
      "       AP006222.2  RP5-857K21.15  RP4-669L17.2  RP4-669L17.10  RP5-857K21.4  \\\n",
      "0               0              0             0              0             0   \n",
      "1               0              0             0              0             1   \n",
      "2               0              0             0              0             0   \n",
      "3               0              0             0              0             1   \n",
      "4               0              0             0              0             1   \n",
      "...           ...            ...           ...            ...           ...   \n",
      "75653           0              0             0              0             2   \n",
      "75654           0              0             0              0             1   \n",
      "75655           0              0             0              0             2   \n",
      "75657           0              0             0              0             0   \n",
      "75658           0              0             0              0             0   \n",
      "\n",
      "       ...  AC011043.2  AL592183.1  AC007325.4  AC007325.2  BX072566.1  \\\n",
      "0      ...           0           0           0           0           0   \n",
      "1      ...           0           0           0           0           0   \n",
      "2      ...           0           0           0           0           0   \n",
      "3      ...           0           0           0           0           0   \n",
      "4      ...           0           0           0           0           0   \n",
      "...    ...         ...         ...         ...         ...         ...   \n",
      "75653  ...           0           1           0           0           0   \n",
      "75654  ...           0           0           0           0           0   \n",
      "75655  ...           0           0           0           0           0   \n",
      "75657  ...           0           0           0           0           0   \n",
      "75658  ...           0           0           0           0           0   \n",
      "\n",
      "       AL354822.1  AC023491.2  AC004556.1  AC240274.1  FAM231B  \n",
      "0               0           0           0           0        0  \n",
      "1               0           0           0           0        0  \n",
      "2               0           0           0           0        0  \n",
      "3               0           0           0           0        0  \n",
      "4               0           0           0           0        0  \n",
      "...           ...         ...         ...         ...      ...  \n",
      "75653           0           0           0           0        0  \n",
      "75654           0           0           0           0        0  \n",
      "75655           0           0           0           0        0  \n",
      "75657           0           0           0           0        0  \n",
      "75658           0           0           0           0        0  \n",
      "\n",
      "[32158 rows x 30062 columns]\n"
     ]
    }
   ],
   "source": [
    "mdd_df = pd.DataFrame(adata_filter.X, index=adata_filter.obs.index.values, columns=adata_filter.var.index.values, dtype='int8')\n",
    "print(mdd_df)"
   ]
  },
  {
   "cell_type": "code",
   "execution_count": 25,
   "metadata": {},
   "outputs": [
    {
     "name": "stdout",
     "output_type": "stream",
     "text": [
      "               0  1  2  3  4  6  7  8  9  10  ...  75648  75649  75650  75651  \\\n",
      "RP11-34P13.3   0  0  0  0  0  0  0  0  0   0  ...      0      0      0      0   \n",
      "RP11-34P13.7   0  0  0  0  0  0  0  0  0   0  ...      0      0      0      0   \n",
      "RP11-34P13.14  0  0  0  0  0  0  0  0  0   0  ...      0      0      0      0   \n",
      "FO538757.3     0  0  0  0  0  0  0  0  0   0  ...      0      0      0      0   \n",
      "FO538757.2     1  1  1  0  0  1  1  0  0   0  ...      1      0      0      0   \n",
      "...           .. .. .. .. .. .. .. .. ..  ..  ...    ...    ...    ...    ...   \n",
      "AL354822.1     0  0  0  0  0  0  0  0  0   0  ...      0      0      0      0   \n",
      "AC023491.2     0  0  0  0  0  0  0  0  0   0  ...      0      0      0      0   \n",
      "AC004556.1     0  0  0  0  0  0  0  0  0   0  ...      0      0      0      0   \n",
      "AC240274.1     0  0  0  0  0  0  0  0  0   0  ...      0      0      0      0   \n",
      "FAM231B        0  0  0  0  0  0  0  0  0   0  ...      0      0      0      0   \n",
      "\n",
      "               75652  75653  75654  75655  75657  75658  \n",
      "RP11-34P13.3       0      0      0      0      0      0  \n",
      "RP11-34P13.7       0      0      0      0      0      0  \n",
      "RP11-34P13.14      0      0      0      0      0      0  \n",
      "FO538757.3         0      0      0      0      0      0  \n",
      "FO538757.2         1      0      1      1      0      0  \n",
      "...              ...    ...    ...    ...    ...    ...  \n",
      "AL354822.1         0      0      0      0      0      0  \n",
      "AC023491.2         0      0      0      0      0      0  \n",
      "AC004556.1         0      0      0      0      0      0  \n",
      "AC240274.1         0      0      0      0      0      0  \n",
      "FAM231B            0      0      0      0      0      0  \n",
      "\n",
      "[30062 rows x 32158 columns]\n"
     ]
    }
   ],
   "source": [
    "mdd_df = mdd_df.T\n",
    "print(mdd_df)"
   ]
  },
  {
   "cell_type": "code",
   "execution_count": null,
   "metadata": {},
   "outputs": [],
   "source": [
    "pheno = pd.DataFrame(adata_filter.obs.cell_types)\n",
    "print(pheno)"
   ]
  },
  {
   "cell_type": "code",
   "execution_count": null,
   "metadata": {},
   "outputs": [],
   "source": [
    "pheno['Subject'] = adata_filter.obs.Subject\n",
    "print(pheno)"
   ]
  },
  {
   "cell_type": "code",
   "execution_count": null,
   "metadata": {},
   "outputs": [],
   "source": [
    "mdd_df.to_csv('/home/mcb/users/ssue1/DECON/data/MDD/mdd_healthy_lake_music.csv')"
   ]
  },
  {
   "cell_type": "code",
   "execution_count": 5,
   "metadata": {},
   "outputs": [],
   "source": [
    "pheno.to_csv('/home/mcb/users/ssue1/DECON/data/MDD/mdd_healthy__lake_pheno_music.csv')"
   ]
  },
  {
   "cell_type": "code",
   "execution_count": 2,
   "metadata": {},
   "outputs": [
    {
     "name": "stdout",
     "output_type": "stream",
     "text": [
      "AnnData object with n_obs × n_vars = 78886 × 30062\n",
      "    obs: 'cell_types', 'Cell_SubType', 'Subject', 'Diagnosis', 'batch_indices'\n"
     ]
    }
   ],
   "source": [
    "adata = ad.read_h5ad('/home/mcb/users/ssue1/DECON/data/MDD/mdd_sc.h5ad')\n",
    "print(adata)"
   ]
  },
  {
   "cell_type": "code",
   "execution_count": 3,
   "metadata": {},
   "outputs": [
    {
     "name": "stdout",
     "output_type": "stream",
     "text": [
      "       RP11-34P13.3  RP11-34P13.7  RP11-34P13.14  FO538757.3  FO538757.2  \\\n",
      "0               0.0           0.0            0.0         0.0         1.0   \n",
      "1               0.0           0.0            0.0         0.0         1.0   \n",
      "2               0.0           0.0            0.0         0.0         1.0   \n",
      "3               0.0           0.0            0.0         0.0         0.0   \n",
      "4               0.0           0.0            0.0         0.0         0.0   \n",
      "...             ...           ...            ...         ...         ...   \n",
      "78881           0.0           0.0            0.0         0.0         0.0   \n",
      "78882           0.0           0.0            0.0         0.0         0.0   \n",
      "78883           0.0           0.0            0.0         0.0         0.0   \n",
      "78884           0.0           0.0            0.0         0.0         0.0   \n",
      "78885           0.0           0.0            0.0         0.0         0.0   \n",
      "\n",
      "       AP006222.2  RP5-857K21.15  RP4-669L17.2  RP4-669L17.10  RP5-857K21.4  \\\n",
      "0             0.0            0.0           0.0            0.0           0.0   \n",
      "1             0.0            0.0           0.0            0.0           1.0   \n",
      "2             0.0            0.0           0.0            0.0           0.0   \n",
      "3             0.0            0.0           0.0            0.0           1.0   \n",
      "4             0.0            0.0           0.0            0.0           1.0   \n",
      "...           ...            ...           ...            ...           ...   \n",
      "78881         0.0            0.0           0.0            0.0           0.0   \n",
      "78882         0.0            0.0           0.0            0.0           0.0   \n",
      "78883         0.0            0.0           0.0            0.0           3.0   \n",
      "78884         1.0            0.0           0.0            0.0           0.0   \n",
      "78885         0.0            0.0           0.0            0.0           0.0   \n",
      "\n",
      "       ...  AC011043.2  AL592183.1  AC007325.4  AC007325.2  BX072566.1  \\\n",
      "0      ...         0.0         0.0         0.0         0.0         0.0   \n",
      "1      ...         0.0         0.0         0.0         0.0         0.0   \n",
      "2      ...         0.0         0.0         0.0         0.0         0.0   \n",
      "3      ...         0.0         0.0         0.0         0.0         0.0   \n",
      "4      ...         0.0         0.0         0.0         0.0         0.0   \n",
      "...    ...         ...         ...         ...         ...         ...   \n",
      "78881  ...         0.0         0.0         0.0         0.0         0.0   \n",
      "78882  ...         0.0         0.0         0.0         0.0         0.0   \n",
      "78883  ...         0.0         0.0         0.0         0.0         0.0   \n",
      "78884  ...         0.0         0.0         0.0         0.0         0.0   \n",
      "78885  ...         0.0         0.0         0.0         0.0         0.0   \n",
      "\n",
      "       AL354822.1  AC023491.2  AC004556.1  AC240274.1  FAM231B  \n",
      "0             0.0         0.0         0.0         0.0      0.0  \n",
      "1             0.0         0.0         0.0         0.0      0.0  \n",
      "2             0.0         0.0         0.0         0.0      0.0  \n",
      "3             0.0         0.0         0.0         0.0      0.0  \n",
      "4             0.0         0.0         0.0         0.0      0.0  \n",
      "...           ...         ...         ...         ...      ...  \n",
      "78881         0.0         0.0         0.0         0.0      0.0  \n",
      "78882         0.0         0.0         0.0         0.0      0.0  \n",
      "78883         0.0         0.0         0.0         0.0      0.0  \n",
      "78884         0.0         0.0         0.0         0.0      0.0  \n",
      "78885         0.0         0.0         0.0         0.0      0.0  \n",
      "\n",
      "[78886 rows x 30062 columns]\n"
     ]
    }
   ],
   "source": [
    "nagy_df = pd.DataFrame(adata.X, index=adata.obs.index.values, columns=adata.var.index.values)\n",
    "print(nagy_df)"
   ]
  },
  {
   "cell_type": "code",
   "execution_count": 4,
   "metadata": {},
   "outputs": [
    {
     "name": "stdout",
     "output_type": "stream",
     "text": [
      "       RP11-34P13.3  RP11-34P13.7  RP11-34P13.14  FO538757.3  FO538757.2  \\\n",
      "0               0.0           0.0            0.0         0.0         1.0   \n",
      "1               0.0           0.0            0.0         0.0         1.0   \n",
      "2               0.0           0.0            0.0         0.0         1.0   \n",
      "3               0.0           0.0            0.0         0.0         0.0   \n",
      "4               0.0           0.0            0.0         0.0         0.0   \n",
      "...             ...           ...            ...         ...         ...   \n",
      "78881           0.0           0.0            0.0         0.0         0.0   \n",
      "78882           0.0           0.0            0.0         0.0         0.0   \n",
      "78883           0.0           0.0            0.0         0.0         0.0   \n",
      "78884           0.0           0.0            0.0         0.0         0.0   \n",
      "78885           0.0           0.0            0.0         0.0         0.0   \n",
      "\n",
      "       AP006222.2  RP5-857K21.15  RP4-669L17.2  RP4-669L17.10  RP5-857K21.4  \\\n",
      "0             0.0            0.0           0.0            0.0           0.0   \n",
      "1             0.0            0.0           0.0            0.0           1.0   \n",
      "2             0.0            0.0           0.0            0.0           0.0   \n",
      "3             0.0            0.0           0.0            0.0           1.0   \n",
      "4             0.0            0.0           0.0            0.0           1.0   \n",
      "...           ...            ...           ...            ...           ...   \n",
      "78881         0.0            0.0           0.0            0.0           0.0   \n",
      "78882         0.0            0.0           0.0            0.0           0.0   \n",
      "78883         0.0            0.0           0.0            0.0           3.0   \n",
      "78884         1.0            0.0           0.0            0.0           0.0   \n",
      "78885         0.0            0.0           0.0            0.0           0.0   \n",
      "\n",
      "       ...  AC007325.4  AC007325.2  BX072566.1  AL354822.1  AC023491.2  \\\n",
      "0      ...         0.0         0.0         0.0         0.0         0.0   \n",
      "1      ...         0.0         0.0         0.0         0.0         0.0   \n",
      "2      ...         0.0         0.0         0.0         0.0         0.0   \n",
      "3      ...         0.0         0.0         0.0         0.0         0.0   \n",
      "4      ...         0.0         0.0         0.0         0.0         0.0   \n",
      "...    ...         ...         ...         ...         ...         ...   \n",
      "78881  ...         0.0         0.0         0.0         0.0         0.0   \n",
      "78882  ...         0.0         0.0         0.0         0.0         0.0   \n",
      "78883  ...         0.0         0.0         0.0         0.0         0.0   \n",
      "78884  ...         0.0         0.0         0.0         0.0         0.0   \n",
      "78885  ...         0.0         0.0         0.0         0.0         0.0   \n",
      "\n",
      "       AC004556.1  AC240274.1  FAM231B  subject  celltype  \n",
      "0             0.0         0.0      0.0        3        Ex  \n",
      "1             0.0         0.0      0.0        3     Inhib  \n",
      "2             0.0         0.0      0.0        3        Ex  \n",
      "3             0.0         0.0      0.0        3        Ex  \n",
      "4             0.0         0.0      0.0        3     Inhib  \n",
      "...           ...         ...      ...      ...       ...  \n",
      "78881         0.0         0.0      0.0       17      OPCs  \n",
      "78882         0.0         0.0      0.0       17        Ex  \n",
      "78883         0.0         0.0      0.0       17        Ex  \n",
      "78884         0.0         0.0      0.0       17     Inhib  \n",
      "78885         0.0         0.0      0.0       17     Inhib  \n",
      "\n",
      "[78886 rows x 30064 columns]\n",
      "       RP11-34P13.3  RP11-34P13.7  RP11-34P13.14  FO538757.3  FO538757.2  \\\n",
      "0               0.0           0.0            0.0         0.0         1.0   \n",
      "1               0.0           0.0            0.0         0.0         1.0   \n",
      "2               0.0           0.0            0.0         0.0         1.0   \n",
      "3               0.0           0.0            0.0         0.0         0.0   \n",
      "4               0.0           0.0            0.0         0.0         0.0   \n",
      "...             ...           ...            ...         ...         ...   \n",
      "78881           0.0           0.0            0.0         0.0         0.0   \n",
      "78882           0.0           0.0            0.0         0.0         0.0   \n",
      "78883           0.0           0.0            0.0         0.0         0.0   \n",
      "78884           0.0           0.0            0.0         0.0         0.0   \n",
      "78885           0.0           0.0            0.0         0.0         0.0   \n",
      "\n",
      "       AP006222.2  RP5-857K21.15  RP4-669L17.2  RP4-669L17.10  RP5-857K21.4  \\\n",
      "0             0.0            0.0           0.0            0.0           0.0   \n",
      "1             0.0            0.0           0.0            0.0           1.0   \n",
      "2             0.0            0.0           0.0            0.0           0.0   \n",
      "3             0.0            0.0           0.0            0.0           1.0   \n",
      "4             0.0            0.0           0.0            0.0           1.0   \n",
      "...           ...            ...           ...            ...           ...   \n",
      "78881         0.0            0.0           0.0            0.0           0.0   \n",
      "78882         0.0            0.0           0.0            0.0           0.0   \n",
      "78883         0.0            0.0           0.0            0.0           3.0   \n",
      "78884         1.0            0.0           0.0            0.0           0.0   \n",
      "78885         0.0            0.0           0.0            0.0           0.0   \n",
      "\n",
      "       ...  AC007325.4  AC007325.2  BX072566.1  AL354822.1  AC023491.2  \\\n",
      "0      ...         0.0         0.0         0.0         0.0         0.0   \n",
      "1      ...         0.0         0.0         0.0         0.0         0.0   \n",
      "2      ...         0.0         0.0         0.0         0.0         0.0   \n",
      "3      ...         0.0         0.0         0.0         0.0         0.0   \n",
      "4      ...         0.0         0.0         0.0         0.0         0.0   \n",
      "...    ...         ...         ...         ...         ...         ...   \n",
      "78881  ...         0.0         0.0         0.0         0.0         0.0   \n",
      "78882  ...         0.0         0.0         0.0         0.0         0.0   \n",
      "78883  ...         0.0         0.0         0.0         0.0         0.0   \n",
      "78884  ...         0.0         0.0         0.0         0.0         0.0   \n",
      "78885  ...         0.0         0.0         0.0         0.0         0.0   \n",
      "\n",
      "       AC004556.1  AC240274.1  FAM231B  subject  celltype  \n",
      "0             0.0         0.0      0.0        3        Ex  \n",
      "1             0.0         0.0      0.0        3     Inhib  \n",
      "2             0.0         0.0      0.0        3        Ex  \n",
      "3             0.0         0.0      0.0        3        Ex  \n",
      "4             0.0         0.0      0.0        3     Inhib  \n",
      "...           ...         ...      ...      ...       ...  \n",
      "78881         0.0         0.0      0.0       17      OPCs  \n",
      "78882         0.0         0.0      0.0       17        Ex  \n",
      "78883         0.0         0.0      0.0       17        Ex  \n",
      "78884         0.0         0.0      0.0       17     Inhib  \n",
      "78885         0.0         0.0      0.0       17     Inhib  \n",
      "\n",
      "[72137 rows x 30064 columns]\n"
     ]
    }
   ],
   "source": [
    "nagy_df['subject'] = adata.obs.Subject.values\n",
    "nagy_df['celltype'] = adata.obs.cell_types.values\n",
    "print(nagy_df)\n",
    "nagy_df = nagy_df[~nagy_df.celltype.str.contains('Mix')]\n",
    "nagy_df = nagy_df[~nagy_df.celltype.str.contains('Micro/Macro')]\n",
    "print(nagy_df)"
   ]
  },
  {
   "cell_type": "code",
   "execution_count": 6,
   "metadata": {},
   "outputs": [
    {
     "name": "stdout",
     "output_type": "stream",
     "text": [
      "['Astros', 'Endo', 'Ex', 'Inhib', 'OPCs', 'Oligos']\n"
     ]
    }
   ],
   "source": [
    "cell_types = sorted(nagy_df['celltype'].unique())\n",
    "print(cell_types)"
   ]
  },
  {
   "cell_type": "code",
   "execution_count": 7,
   "metadata": {},
   "outputs": [],
   "source": [
    "no_ct = nagy_df.drop(['celltype'], axis=1)"
   ]
  },
  {
   "cell_type": "code",
   "execution_count": 9,
   "metadata": {},
   "outputs": [
    {
     "name": "stdout",
     "output_type": "stream",
     "text": [
      "[1, 2, 3, 4, 5, 6, 7, 8, 9, 10, 11, 12, 13, 14, 15, 16, 17, 18, 19, 20, 21, 22, 23, 24, 25, 26, 27, 28, 29, 30, 31, 32, 33, 34]\n"
     ]
    }
   ],
   "source": [
    "unique = sorted(nagy_df['subject'].unique())\n",
    "print(unique)"
   ]
  },
  {
   "cell_type": "code",
   "execution_count": 10,
   "metadata": {},
   "outputs": [
    {
     "name": "stdout",
     "output_type": "stream",
     "text": [
      "[array([ 5., 12.,  0., ...,  1., 63.,  0.], dtype=float32), array([ 2.,  7.,  0., ...,  1., 32.,  0.], dtype=float32), array([ 0.,  6.,  0., ...,  0., 25.,  0.], dtype=float32), array([ 2., 29.,  0., ...,  2., 61.,  0.], dtype=float32), array([ 0., 10.,  0., ...,  2., 18.,  0.], dtype=float32), array([ 3., 13.,  0., ...,  0., 52.,  0.], dtype=float32), array([  2.,  10.,   0., ...,   3., 100.,   0.], dtype=float32), array([ 3., 26.,  0., ...,  2., 20.,  0.], dtype=float32), array([ 0., 13.,  0., ..., 41., 22.,  0.], dtype=float32), array([ 0., 15.,  0., ...,  1., 74.,  0.], dtype=float32), array([ 0., 57.,  0., ...,  9., 88.,  0.], dtype=float32), array([ 0., 13.,  0., ..., 40., 31.,  0.], dtype=float32), array([ 1., 18.,  0., ...,  2., 25.,  0.], dtype=float32), array([ 1., 28.,  0., ...,  2., 29.,  0.], dtype=float32), array([ 0., 19.,  0., ...,  1., 35.,  0.], dtype=float32), array([ 2., 17.,  0., ..., 19., 44.,  0.], dtype=float32), array([ 0., 26.,  0., ...,  5., 87.,  0.], dtype=float32), array([ 1., 15.,  0., ..., 15., 59.,  1.], dtype=float32), array([ 0., 22.,  0., ...,  5., 45.,  0.], dtype=float32), array([ 0., 25.,  0., ...,  5., 74.,  0.], dtype=float32), array([ 5., 19.,  0., ...,  2., 46.,  0.], dtype=float32), array([ 0., 16.,  0., ..., 10., 38.,  0.], dtype=float32), array([ 6., 18.,  0., ...,  7., 37.,  0.], dtype=float32), array([ 0., 11.,  0., ...,  6., 10.,  0.], dtype=float32), array([0., 0., 0., ..., 0., 0., 0.], dtype=float32), array([  2.,   7.,   0., ...,   9., 130.,   0.], dtype=float32), array([ 2.,  9.,  0., ..., 20., 18.,  0.], dtype=float32), array([ 1., 15.,  0., ...,  2., 36.,  0.], dtype=float32), array([ 1., 13.,  0., ...,  2., 27.,  0.], dtype=float32), array([ 2., 32.,  0., ...,  2., 41.,  0.], dtype=float32), array([ 0., 19.,  0., ..., 29., 69.,  0.], dtype=float32), array([ 5., 36.,  0., ..., 14., 25.,  0.], dtype=float32), array([ 3., 20.,  1., ..., 12., 45.,  0.], dtype=float32), array([ 1., 34.,  0., ..., 25., 75.,  0.], dtype=float32)]\n"
     ]
    }
   ],
   "source": [
    "bulk = []\n",
    "for i in unique:\n",
    "    subset = no_ct[no_ct['subject']==i]\n",
    "    subset = subset.set_index('subject')\n",
    "    subset_sum = subset.sum()\n",
    "    bulk.append(subset_sum.values)\n",
    "print(bulk)"
   ]
  },
  {
   "cell_type": "code",
   "execution_count": 11,
   "metadata": {},
   "outputs": [
    {
     "name": "stdout",
     "output_type": "stream",
     "text": [
      "[[ 5. 12.  0. ...  1. 63.  0.]\n",
      " [ 2.  7.  0. ...  1. 32.  0.]\n",
      " [ 0.  6.  0. ...  0. 25.  0.]\n",
      " ...\n",
      " [ 5. 36.  0. ... 14. 25.  0.]\n",
      " [ 3. 20.  1. ... 12. 45.  0.]\n",
      " [ 1. 34.  0. ... 25. 75.  0.]]\n"
     ]
    }
   ],
   "source": [
    "bulk_array = np.vstack(bulk)\n",
    "print(bulk_array)"
   ]
  },
  {
   "cell_type": "code",
   "execution_count": 12,
   "metadata": {},
   "outputs": [
    {
     "name": "stdout",
     "output_type": "stream",
     "text": [
      "    RP11-34P13.3  RP11-34P13.7  RP11-34P13.14  FO538757.3  FO538757.2  \\\n",
      "1            5.0          12.0            0.0         0.0       978.0   \n",
      "2            2.0           7.0            0.0         0.0      1420.0   \n",
      "3            0.0           6.0            0.0         0.0       558.0   \n",
      "4            2.0          29.0            0.0         0.0      1570.0   \n",
      "5            0.0          10.0            0.0         0.0      1056.0   \n",
      "6            3.0          13.0            0.0         0.0       764.0   \n",
      "7            2.0          10.0            0.0         1.0      1565.0   \n",
      "8            3.0          26.0            0.0         0.0       711.0   \n",
      "9            0.0          13.0            0.0         0.0       387.0   \n",
      "10           0.0          15.0            0.0         1.0       691.0   \n",
      "11           0.0          57.0            0.0         0.0       709.0   \n",
      "12           0.0          13.0            0.0         0.0       893.0   \n",
      "13           1.0          18.0            0.0         1.0      1387.0   \n",
      "14           1.0          28.0            0.0         0.0       749.0   \n",
      "15           0.0          19.0            0.0         0.0      1107.0   \n",
      "16           2.0          17.0            0.0         0.0       872.0   \n",
      "17           0.0          26.0            0.0         0.0       481.0   \n",
      "18           1.0          15.0            0.0         0.0       469.0   \n",
      "19           0.0          22.0            0.0         0.0      1645.0   \n",
      "20           0.0          25.0            0.0         0.0       742.0   \n",
      "21           5.0          19.0            0.0         1.0      1022.0   \n",
      "22           0.0          16.0            0.0         0.0       580.0   \n",
      "23           6.0          18.0            0.0         1.0      1104.0   \n",
      "24           0.0          11.0            0.0         0.0       563.0   \n",
      "25           0.0           0.0            0.0         0.0        33.0   \n",
      "26           2.0           7.0            0.0         0.0       908.0   \n",
      "27           2.0           9.0            0.0         1.0       419.0   \n",
      "28           1.0          15.0            0.0         0.0      1067.0   \n",
      "29           1.0          13.0            0.0         0.0      1479.0   \n",
      "30           2.0          32.0            0.0         0.0       716.0   \n",
      "31           0.0          19.0            0.0         0.0       863.0   \n",
      "32           5.0          36.0            0.0         0.0       925.0   \n",
      "33           3.0          20.0            1.0         0.0       856.0   \n",
      "34           1.0          34.0            0.0         0.0      1225.0   \n",
      "\n",
      "    AP006222.2  RP5-857K21.15  RP4-669L17.2  RP4-669L17.10  RP5-857K21.4  ...  \\\n",
      "1        265.0            0.0           0.0           18.0        3115.0  ...   \n",
      "2         33.0            0.0           0.0           19.0        1541.0  ...   \n",
      "3         55.0            0.0           0.0           30.0         819.0  ...   \n",
      "4        237.0            0.0           0.0           62.0        2239.0  ...   \n",
      "5         89.0            0.0           0.0           25.0        2574.0  ...   \n",
      "6        246.0            1.0           0.0           46.0        2099.0  ...   \n",
      "7        200.0            0.0           0.0           79.0        1766.0  ...   \n",
      "8        353.0            0.0           0.0           44.0        2950.0  ...   \n",
      "9         57.0            0.0           0.0            7.0        1144.0  ...   \n",
      "10       254.0            0.0           0.0           20.0        1776.0  ...   \n",
      "11       103.0            0.0           0.0           73.0        1613.0  ...   \n",
      "12       250.0            0.0           0.0           40.0        1517.0  ...   \n",
      "13       157.0            0.0           0.0           50.0         981.0  ...   \n",
      "14       109.0            0.0           0.0           55.0        2094.0  ...   \n",
      "15       431.0            0.0           0.0           47.0        2363.0  ...   \n",
      "16       241.0            0.0           0.0           32.0        1032.0  ...   \n",
      "17        74.0            0.0           0.0           63.0        1870.0  ...   \n",
      "18        93.0            0.0           0.0           36.0        1606.0  ...   \n",
      "19       324.0            0.0           0.0           73.0        2037.0  ...   \n",
      "20       414.0            0.0           0.0          111.0        2087.0  ...   \n",
      "21       248.0            1.0           0.0          128.0        1998.0  ...   \n",
      "22       186.0            0.0           0.0           38.0        1689.0  ...   \n",
      "23       163.0            0.0           0.0           51.0        1468.0  ...   \n",
      "24        38.0            0.0           0.0           15.0         780.0  ...   \n",
      "25         4.0            0.0           0.0            1.0          42.0  ...   \n",
      "26       130.0            0.0           0.0           36.0        2167.0  ...   \n",
      "27        73.0            0.0           0.0           18.0        1178.0  ...   \n",
      "28       133.0            0.0           0.0           47.0        2193.0  ...   \n",
      "29        87.0            0.0           1.0           50.0        1744.0  ...   \n",
      "30       272.0            0.0           0.0           35.0        2458.0  ...   \n",
      "31       262.0            0.0           0.0           67.0        2409.0  ...   \n",
      "32       358.0            0.0           0.0           90.0        1975.0  ...   \n",
      "33       141.0            0.0           0.0           76.0        2110.0  ...   \n",
      "34       345.0            0.0           0.0          125.0        2730.0  ...   \n",
      "\n",
      "    AC011043.2  AL592183.1  AC007325.4  AC007325.2  BX072566.1  AL354822.1  \\\n",
      "1          0.0        59.0       123.0         3.0         1.0         4.0   \n",
      "2          0.0       120.0       100.0        75.0         2.0         3.0   \n",
      "3          0.0       122.0        46.0         7.0         0.0         4.0   \n",
      "4          0.0       639.0       167.0         4.0         1.0         5.0   \n",
      "5          0.0       182.0        87.0        10.0         0.0        10.0   \n",
      "6          1.0       754.0       111.0        15.0         1.0        58.0   \n",
      "7          1.0       326.0       115.0        37.0         0.0        11.0   \n",
      "8          0.0       739.0       214.0         6.0         0.0        13.0   \n",
      "9          0.0       163.0        37.0         7.0         0.0         2.0   \n",
      "10         0.0       748.0       198.0         1.0         1.0        12.0   \n",
      "11         0.0       695.0       106.0        38.0         3.0        52.0   \n",
      "12         0.0       159.0       241.0        26.0         0.0         4.0   \n",
      "13         1.0       490.0       259.0        19.0         1.0        12.0   \n",
      "14         0.0       567.0        72.0         6.0         0.0        25.0   \n",
      "15         1.0       662.0       308.0        23.0         0.0         7.0   \n",
      "16         0.0       163.0        62.0        41.0         0.0         4.0   \n",
      "17         0.0       250.0        50.0         4.0         1.0         8.0   \n",
      "18         0.0       113.0        68.0        15.0         0.0         5.0   \n",
      "19         1.0       205.0       149.0        63.0         1.0        26.0   \n",
      "20         0.0      1136.0       282.0        10.0         1.0        12.0   \n",
      "21         0.0       569.0        98.0        20.0         0.0         2.0   \n",
      "22         1.0        78.0        83.0         3.0         0.0        41.0   \n",
      "23         0.0       286.0       120.0         3.0         0.0         9.0   \n",
      "24         0.0        29.0        22.0         3.0         0.0         2.0   \n",
      "25         0.0         5.0         6.0         0.0         0.0         0.0   \n",
      "26         0.0       139.0        52.0        35.0         0.0         9.0   \n",
      "27         0.0       129.0        29.0        15.0         0.0         1.0   \n",
      "28         0.0       532.0        31.0        10.0         0.0        23.0   \n",
      "29         0.0       167.0        72.0        32.0         1.0        12.0   \n",
      "30         0.0       349.0       208.0         7.0         1.0         8.0   \n",
      "31         1.0       676.0        72.0        46.0         0.0         8.0   \n",
      "32         0.0       473.0        92.0        10.0         0.0         3.0   \n",
      "33         0.0       713.0       117.0        17.0         3.0        63.0   \n",
      "34         0.0       953.0       161.0        15.0         1.0         0.0   \n",
      "\n",
      "    AC023491.2  AC004556.1  AC240274.1  FAM231B  \n",
      "1          0.0         1.0        63.0      0.0  \n",
      "2          0.0         1.0        32.0      0.0  \n",
      "3          0.0         0.0        25.0      0.0  \n",
      "4          0.0         2.0        61.0      0.0  \n",
      "5          0.0         2.0        18.0      0.0  \n",
      "6          0.0         0.0        52.0      0.0  \n",
      "7          0.0         3.0       100.0      0.0  \n",
      "8          0.0         2.0        20.0      0.0  \n",
      "9          0.0        41.0        22.0      0.0  \n",
      "10         1.0         1.0        74.0      0.0  \n",
      "11         0.0         9.0        88.0      0.0  \n",
      "12         0.0        40.0        31.0      0.0  \n",
      "13         0.0         2.0        25.0      0.0  \n",
      "14         0.0         2.0        29.0      0.0  \n",
      "15         0.0         1.0        35.0      0.0  \n",
      "16         0.0        19.0        44.0      0.0  \n",
      "17         0.0         5.0        87.0      0.0  \n",
      "18         0.0        15.0        59.0      1.0  \n",
      "19         0.0         5.0        45.0      0.0  \n",
      "20         0.0         5.0        74.0      0.0  \n",
      "21         0.0         2.0        46.0      0.0  \n",
      "22         0.0        10.0        38.0      0.0  \n",
      "23         0.0         7.0        37.0      0.0  \n",
      "24         0.0         6.0        10.0      0.0  \n",
      "25         0.0         0.0         0.0      0.0  \n",
      "26         0.0         9.0       130.0      0.0  \n",
      "27         0.0        20.0        18.0      0.0  \n",
      "28         0.0         2.0        36.0      0.0  \n",
      "29         0.0         2.0        27.0      0.0  \n",
      "30         0.0         2.0        41.0      0.0  \n",
      "31         0.0        29.0        69.0      0.0  \n",
      "32         0.0        14.0        25.0      0.0  \n",
      "33         0.0        12.0        45.0      0.0  \n",
      "34         0.0        25.0        75.0      0.0  \n",
      "\n",
      "[34 rows x 30062 columns]\n"
     ]
    }
   ],
   "source": [
    "bulk_df = pd.DataFrame(bulk_array, index=unique, columns=adata.var.index.values)\n",
    "print(bulk_df)"
   ]
  },
  {
   "cell_type": "code",
   "execution_count": 13,
   "metadata": {},
   "outputs": [],
   "source": [
    "bulk_df.to_csv('/home/mcb/users/ssue1/DECON/data/MDD/nagy_bulk.csv')"
   ]
  },
  {
   "cell_type": "code",
   "execution_count": 14,
   "metadata": {},
   "outputs": [],
   "source": [
    "proportions = []\n",
    "for i in unique:\n",
    "    sub_proportions=[]\n",
    "    subset = nagy_df[nagy_df['subject']==i]\n",
    "    for c in cell_types:\n",
    "        count = subset[subset['celltype'].str.contains(c)]\n",
    "        frac = (len(count))/len(subset)\n",
    "        sub_proportions.append(frac)\n",
    "    proportions.append(sub_proportions)"
   ]
  },
  {
   "cell_type": "code",
   "execution_count": 15,
   "metadata": {},
   "outputs": [
    {
     "name": "stdout",
     "output_type": "stream",
     "text": [
      "[[4.34637245e-03 1.33734537e-03 7.33199599e-01 1.73186225e-01\n",
      "  3.77800067e-02 5.01504514e-02]\n",
      " [1.58403869e-01 3.02297461e-03 6.19709794e-01 1.36638452e-01\n",
      "  3.44619105e-02 4.77629988e-02]\n",
      " [1.24338624e-01 8.81834215e-03 3.83597884e-01 2.83950617e-01\n",
      "  4.14462081e-02 1.57848325e-01]\n",
      " [1.70430337e-03 1.70430337e-03 7.21772476e-01 2.54367277e-01\n",
      "  3.83468257e-03 1.66169578e-02]\n",
      " [4.01974612e-02 4.93653032e-03 6.00141044e-01 1.85472496e-01\n",
      "  5.00705219e-02 1.19181946e-01]\n",
      " [8.57933579e-02 2.30627306e-03 6.28690037e-01 1.77121771e-01\n",
      "  2.85977860e-02 7.74907749e-02]\n",
      " [1.08630313e-01 2.14684414e-03 6.24302276e-01 1.36109918e-01\n",
      "  3.69257192e-02 9.18849292e-02]\n",
      " [2.96882731e-02 5.93765463e-03 7.10539337e-01 2.14250371e-01\n",
      "  1.88025730e-02 2.07817912e-02]\n",
      " [8.92098556e-02 1.18946474e-02 4.42650807e-01 2.91418862e-01\n",
      "  6.54205607e-02 9.94052676e-02]\n",
      " [7.33074601e-03 4.31220354e-03 6.96420871e-01 1.42302717e-01\n",
      "  3.10478655e-02 1.18585597e-01]\n",
      " [1.18413755e-01 7.21020521e-03 5.87354409e-01 1.50859678e-01\n",
      "  1.74708819e-02 1.18691070e-01]\n",
      " [1.24260355e-01 1.08481262e-02 5.33037475e-01 1.69132150e-01\n",
      "  3.64891519e-02 1.26232742e-01]\n",
      " [8.06890299e-02 5.89301904e-03 6.56391659e-01 1.72710789e-01\n",
      "  2.71985494e-02 5.71169538e-02]\n",
      " [1.84729064e-03 4.92610837e-03 6.26847291e-01 2.79556650e-01\n",
      "  2.64778325e-02 6.03448276e-02]\n",
      " [7.69230769e-02 8.51438638e-03 6.16852613e-01 1.87610100e-01\n",
      "  3.64063417e-02 7.36934821e-02]\n",
      " [1.05595668e-01 1.17328520e-02 3.60108303e-01 4.29602888e-01\n",
      "  6.67870036e-02 2.61732852e-02]\n",
      " [4.22805894e-02 3.20307495e-04 7.45355541e-01 1.56310058e-01\n",
      "  2.62652146e-02 2.94682896e-02]\n",
      " [2.58679374e-02 1.02110279e-02 5.15316542e-01 2.03539823e-01\n",
      "  5.17358747e-02 1.93328795e-01]\n",
      " [7.22841801e-02 4.13052458e-03 6.47666254e-01 1.87112763e-01\n",
      "  4.00660884e-02 4.87401900e-02]\n",
      " [6.34586466e-02 5.41353383e-03 6.08421053e-01 2.02406015e-01\n",
      "  2.70676692e-02 9.32330827e-02]\n",
      " [3.64693446e-02 2.64270613e-03 6.79175476e-01 1.72832981e-01\n",
      "  4.06976744e-02 6.81818182e-02]\n",
      " [2.09653827e-02 2.92540224e-03 7.30375427e-01 1.87713311e-01\n",
      "  2.63286202e-02 3.16918576e-02]\n",
      " [0.00000000e+00 7.01508243e-04 9.30901438e-01 6.62925289e-02\n",
      "  3.50754121e-04 1.75377061e-03]\n",
      " [9.84009840e-03 4.92004920e-03 6.08856089e-01 3.13653137e-01\n",
      "  2.82902829e-02 3.44403444e-02]\n",
      " [2.61780105e-01 2.61780105e-02 6.02094241e-01 7.32984293e-02\n",
      "  2.09424084e-02 1.57068063e-02]\n",
      " [7.48853795e-02 4.58481915e-03 4.42689761e-01 3.46917983e-01\n",
      "  6.97911360e-02 6.11309221e-02]\n",
      " [1.18475559e-01 4.97100249e-03 4.11764706e-01 2.11267606e-01\n",
      "  5.63380282e-02 1.97183099e-01]\n",
      " [3.68772067e-02 3.92310710e-04 6.16320126e-01 1.51431934e-01\n",
      "  4.62926638e-02 1.48685759e-01]\n",
      " [5.00467727e-02 1.02899906e-02 5.70626754e-01 2.22637979e-01\n",
      "  3.64826941e-02 1.09915809e-01]\n",
      " [1.22006326e-02 5.42250339e-03 6.90013556e-01 2.28197018e-01\n",
      "  2.66606417e-02 3.75056484e-02]\n",
      " [8.31708902e-02 1.62443145e-03 4.51591943e-01 1.74463938e-01\n",
      "  2.17673814e-02 2.67381417e-01]\n",
      " [2.48181429e-02 8.98587933e-03 6.18741977e-01 2.65725289e-01\n",
      "  2.35344459e-02 5.81942662e-02]\n",
      " [7.09939148e-02 2.53549696e-03 4.17849899e-01 4.34584178e-01\n",
      "  2.38336714e-02 5.02028398e-02]\n",
      " [7.31139914e-03 1.99401795e-03 7.17181788e-01 2.11365902e-01\n",
      "  1.99401795e-02 4.22067132e-02]]\n"
     ]
    }
   ],
   "source": [
    "proportions_array = np.vstack(proportions)\n",
    "print(proportions_array)"
   ]
  },
  {
   "cell_type": "code",
   "execution_count": 16,
   "metadata": {},
   "outputs": [
    {
     "name": "stdout",
     "output_type": "stream",
     "text": [
      "      Astros      Endo        Ex     Inhib      OPCs    Oligos\n",
      "1   0.004346  0.001337  0.733200  0.173186  0.037780  0.050150\n",
      "2   0.158404  0.003023  0.619710  0.136638  0.034462  0.047763\n",
      "3   0.124339  0.008818  0.383598  0.283951  0.041446  0.157848\n",
      "4   0.001704  0.001704  0.721772  0.254367  0.003835  0.016617\n",
      "5   0.040197  0.004937  0.600141  0.185472  0.050071  0.119182\n",
      "6   0.085793  0.002306  0.628690  0.177122  0.028598  0.077491\n",
      "7   0.108630  0.002147  0.624302  0.136110  0.036926  0.091885\n",
      "8   0.029688  0.005938  0.710539  0.214250  0.018803  0.020782\n",
      "9   0.089210  0.011895  0.442651  0.291419  0.065421  0.099405\n",
      "10  0.007331  0.004312  0.696421  0.142303  0.031048  0.118586\n",
      "11  0.118414  0.007210  0.587354  0.150860  0.017471  0.118691\n",
      "12  0.124260  0.010848  0.533037  0.169132  0.036489  0.126233\n",
      "13  0.080689  0.005893  0.656392  0.172711  0.027199  0.057117\n",
      "14  0.001847  0.004926  0.626847  0.279557  0.026478  0.060345\n",
      "15  0.076923  0.008514  0.616853  0.187610  0.036406  0.073693\n",
      "16  0.105596  0.011733  0.360108  0.429603  0.066787  0.026173\n",
      "17  0.042281  0.000320  0.745356  0.156310  0.026265  0.029468\n",
      "18  0.025868  0.010211  0.515317  0.203540  0.051736  0.193329\n",
      "19  0.072284  0.004131  0.647666  0.187113  0.040066  0.048740\n",
      "20  0.063459  0.005414  0.608421  0.202406  0.027068  0.093233\n",
      "21  0.036469  0.002643  0.679175  0.172833  0.040698  0.068182\n",
      "22  0.020965  0.002925  0.730375  0.187713  0.026329  0.031692\n",
      "23  0.000000  0.000702  0.930901  0.066293  0.000351  0.001754\n",
      "24  0.009840  0.004920  0.608856  0.313653  0.028290  0.034440\n",
      "25  0.261780  0.026178  0.602094  0.073298  0.020942  0.015707\n",
      "26  0.074885  0.004585  0.442690  0.346918  0.069791  0.061131\n",
      "27  0.118476  0.004971  0.411765  0.211268  0.056338  0.197183\n",
      "28  0.036877  0.000392  0.616320  0.151432  0.046293  0.148686\n",
      "29  0.050047  0.010290  0.570627  0.222638  0.036483  0.109916\n",
      "30  0.012201  0.005423  0.690014  0.228197  0.026661  0.037506\n",
      "31  0.083171  0.001624  0.451592  0.174464  0.021767  0.267381\n",
      "32  0.024818  0.008986  0.618742  0.265725  0.023534  0.058194\n",
      "33  0.070994  0.002535  0.417850  0.434584  0.023834  0.050203\n",
      "34  0.007311  0.001994  0.717182  0.211366  0.019940  0.042207\n"
     ]
    }
   ],
   "source": [
    "proportions_df = pd.DataFrame(proportions_array, index=unique, columns=cell_types)\n",
    "print(proportions_df)"
   ]
  },
  {
   "cell_type": "code",
   "execution_count": 17,
   "metadata": {},
   "outputs": [],
   "source": [
    "proportions_df.to_csv('/home/mcb/users/ssue1/DECON/data/MDD/nagy_bulk_proportions.csv')"
   ]
  },
  {
   "cell_type": "code",
   "execution_count": 18,
   "metadata": {},
   "outputs": [
    {
     "name": "stdout",
     "output_type": "stream",
     "text": [
      "[1 1 1 1 1 1 1 1 1 1 1 1 1 1 1 1 1 1 1 1 1 1 1 1 1 1 1 1 1 1 1 1 1 1]\n"
     ]
    }
   ],
   "source": [
    "batch = np.ones((34,), dtype=int)\n",
    "print(batch)"
   ]
  },
  {
   "cell_type": "code",
   "execution_count": 20,
   "metadata": {},
   "outputs": [],
   "source": [
    "X = bulk_df.values"
   ]
  },
  {
   "cell_type": "code",
   "execution_count": 21,
   "metadata": {},
   "outputs": [
    {
     "name": "stdout",
     "output_type": "stream",
     "text": [
      "AnnData object with n_obs × n_vars = 34 × 30062\n",
      "    obs: 'cell_types', 'batch_indices'\n"
     ]
    }
   ],
   "source": [
    "def populateAnnData(X,bulk_df, batch):\n",
    "    import anndata\n",
    "    adata = anndata.AnnData(X=X)\n",
    "    adata.var_names = bulk_df.columns.values\n",
    "    adata.obs['cell_types'] = bulk_df.index.values\n",
    "    adata.obs['batch_indices'] = batch\n",
    "    return adata\n",
    "\n",
    "adata = populateAnnData(X, bulk_df, batch)\n",
    "print(adata)"
   ]
  },
  {
   "cell_type": "code",
   "execution_count": 22,
   "metadata": {},
   "outputs": [
    {
     "name": "stdout",
     "output_type": "stream",
     "text": [
      "[[ 5. 12.  0. ...  1. 63.  0.]\n",
      " [ 2.  7.  0. ...  1. 32.  0.]\n",
      " [ 0.  6.  0. ...  0. 25.  0.]\n",
      " ...\n",
      " [ 5. 36.  0. ... 14. 25.  0.]\n",
      " [ 3. 20.  1. ... 12. 45.  0.]\n",
      " [ 1. 34.  0. ... 25. 75.  0.]]\n"
     ]
    }
   ],
   "source": [
    "print(adata.X)"
   ]
  },
  {
   "cell_type": "code",
   "execution_count": 23,
   "metadata": {},
   "outputs": [],
   "source": [
    "import scanpy as sc\n",
    "sc.pp.log1p(adata)"
   ]
  },
  {
   "cell_type": "code",
   "execution_count": 24,
   "metadata": {},
   "outputs": [
    {
     "name": "stdout",
     "output_type": "stream",
     "text": [
      "AnnData object with n_obs × n_vars = 34 × 30062\n",
      "    obs: 'cell_types', 'batch_indices'\n",
      "    uns: 'log1p'\n"
     ]
    }
   ],
   "source": [
    "from sklearn import preprocessing as pp\n",
    "\n",
    "def sample_scaling(x):\n",
    "    mms = pp.MinMaxScaler(feature_range=(0, 1), copy=True)\n",
    "    # it scales features so transpose is needed\n",
    "    x = mms.fit_transform(x.T).T\n",
    "    return x\n",
    "\n",
    "adata.X = sample_scaling(adata.X)\n",
    "print(adata)"
   ]
  },
  {
   "cell_type": "code",
   "execution_count": 25,
   "metadata": {},
   "outputs": [],
   "source": [
    "adata.write('/home/mcb/users/ssue1/DECON/data/MDD/nagy_bulk_pp.h5ad')"
   ]
  },
  {
   "cell_type": "code",
   "execution_count": null,
   "metadata": {},
   "outputs": [],
   "source": []
  }
 ],
 "metadata": {
  "kernelspec": {
   "display_name": "Python 3",
   "language": "python",
   "name": "python3"
  },
  "language_info": {
   "codemirror_mode": {
    "name": "ipython",
    "version": 3
   },
   "file_extension": ".py",
   "mimetype": "text/x-python",
   "name": "python",
   "nbconvert_exporter": "python",
   "pygments_lexer": "ipython3",
   "version": "3.7.6"
  }
 },
 "nbformat": 4,
 "nbformat_minor": 4
}
